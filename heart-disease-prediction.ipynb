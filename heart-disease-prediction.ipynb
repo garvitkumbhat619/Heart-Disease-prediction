{
 "cells": [
  {
   "cell_type": "markdown",
   "id": "5679ab95",
   "metadata": {
    "id": "irsv5vnVgLQj",
    "papermill": {
     "duration": 0.0285,
     "end_time": "2024-04-01T06:55:36.527341",
     "exception": false,
     "start_time": "2024-04-01T06:55:36.498841",
     "status": "completed"
    },
    "tags": []
   },
   "source": [
    "## Import packages"
   ]
  },
  {
   "cell_type": "code",
   "execution_count": 1,
   "id": "767fb604",
   "metadata": {
    "execution": {
     "iopub.execute_input": "2024-04-01T06:55:36.588727Z",
     "iopub.status.busy": "2024-04-01T06:55:36.588203Z",
     "iopub.status.idle": "2024-04-01T06:55:40.137734Z",
     "shell.execute_reply": "2024-04-01T06:55:40.136282Z"
    },
    "id": "8gCADnJyh4Nd",
    "papermill": {
     "duration": 3.584664,
     "end_time": "2024-04-01T06:55:40.140837",
     "exception": false,
     "start_time": "2024-04-01T06:55:36.556173",
     "status": "completed"
    },
    "tags": []
   },
   "outputs": [],
   "source": [
    "import numpy as np\n",
    "import pandas as pd\n",
    "import matplotlib.pyplot as plt\n",
    "import seaborn as sns\n",
    "\n",
    "from sklearn.linear_model import LogisticRegression\n",
    "from sklearn.neighbors import KNeighborsClassifier\n",
    "from sklearn.ensemble import RandomForestClassifier\n",
    "\n",
    "from sklearn.model_selection import train_test_split, cross_val_score, RandomizedSearchCV, GridSearchCV\n",
    "from sklearn.metrics import confusion_matrix, classification_report\n",
    "from sklearn.metrics import RocCurveDisplay, ConfusionMatrixDisplay\n",
    "from sklearn.metrics import accuracy_score, precision_score, recall_score, f1_score"
   ]
  },
  {
   "cell_type": "markdown",
   "id": "41359a0a",
   "metadata": {
    "id": "h0UZzFMdj1Kb",
    "papermill": {
     "duration": 0.028519,
     "end_time": "2024-04-01T06:55:40.199096",
     "exception": false,
     "start_time": "2024-04-01T06:55:40.170577",
     "status": "completed"
    },
    "tags": []
   },
   "source": [
    "## Import Data"
   ]
  },
  {
   "cell_type": "code",
   "execution_count": 2,
   "id": "1c067b11",
   "metadata": {
    "execution": {
     "iopub.execute_input": "2024-04-01T06:55:40.258270Z",
     "iopub.status.busy": "2024-04-01T06:55:40.257494Z",
     "iopub.status.idle": "2024-04-01T06:55:40.305857Z",
     "shell.execute_reply": "2024-04-01T06:55:40.304507Z"
    },
    "id": "_G2vbgv4keMz",
    "outputId": "fe8d5707-1f24-44b1-e962-bf3f3debadae",
    "papermill": {
     "duration": 0.081134,
     "end_time": "2024-04-01T06:55:40.308406",
     "exception": false,
     "start_time": "2024-04-01T06:55:40.227272",
     "status": "completed"
    },
    "tags": []
   },
   "outputs": [
    {
     "data": {
      "text/html": [
       "<div>\n",
       "<style scoped>\n",
       "    .dataframe tbody tr th:only-of-type {\n",
       "        vertical-align: middle;\n",
       "    }\n",
       "\n",
       "    .dataframe tbody tr th {\n",
       "        vertical-align: top;\n",
       "    }\n",
       "\n",
       "    .dataframe thead th {\n",
       "        text-align: right;\n",
       "    }\n",
       "</style>\n",
       "<table border=\"1\" class=\"dataframe\">\n",
       "  <thead>\n",
       "    <tr style=\"text-align: right;\">\n",
       "      <th></th>\n",
       "      <th>age</th>\n",
       "      <th>sex</th>\n",
       "      <th>cp</th>\n",
       "      <th>trestbps</th>\n",
       "      <th>chol</th>\n",
       "      <th>fbs</th>\n",
       "      <th>restecg</th>\n",
       "      <th>thalach</th>\n",
       "      <th>exang</th>\n",
       "      <th>oldpeak</th>\n",
       "      <th>slope</th>\n",
       "      <th>ca</th>\n",
       "      <th>thal</th>\n",
       "      <th>target</th>\n",
       "    </tr>\n",
       "  </thead>\n",
       "  <tbody>\n",
       "    <tr>\n",
       "      <th>0</th>\n",
       "      <td>63</td>\n",
       "      <td>1</td>\n",
       "      <td>3</td>\n",
       "      <td>145</td>\n",
       "      <td>233</td>\n",
       "      <td>1</td>\n",
       "      <td>0</td>\n",
       "      <td>150</td>\n",
       "      <td>0</td>\n",
       "      <td>2.3</td>\n",
       "      <td>0</td>\n",
       "      <td>0</td>\n",
       "      <td>1</td>\n",
       "      <td>1</td>\n",
       "    </tr>\n",
       "    <tr>\n",
       "      <th>1</th>\n",
       "      <td>37</td>\n",
       "      <td>1</td>\n",
       "      <td>2</td>\n",
       "      <td>130</td>\n",
       "      <td>250</td>\n",
       "      <td>0</td>\n",
       "      <td>1</td>\n",
       "      <td>187</td>\n",
       "      <td>0</td>\n",
       "      <td>3.5</td>\n",
       "      <td>0</td>\n",
       "      <td>0</td>\n",
       "      <td>2</td>\n",
       "      <td>1</td>\n",
       "    </tr>\n",
       "    <tr>\n",
       "      <th>2</th>\n",
       "      <td>41</td>\n",
       "      <td>0</td>\n",
       "      <td>1</td>\n",
       "      <td>130</td>\n",
       "      <td>204</td>\n",
       "      <td>0</td>\n",
       "      <td>0</td>\n",
       "      <td>172</td>\n",
       "      <td>0</td>\n",
       "      <td>1.4</td>\n",
       "      <td>2</td>\n",
       "      <td>0</td>\n",
       "      <td>2</td>\n",
       "      <td>1</td>\n",
       "    </tr>\n",
       "    <tr>\n",
       "      <th>3</th>\n",
       "      <td>56</td>\n",
       "      <td>1</td>\n",
       "      <td>1</td>\n",
       "      <td>120</td>\n",
       "      <td>236</td>\n",
       "      <td>0</td>\n",
       "      <td>1</td>\n",
       "      <td>178</td>\n",
       "      <td>0</td>\n",
       "      <td>0.8</td>\n",
       "      <td>2</td>\n",
       "      <td>0</td>\n",
       "      <td>2</td>\n",
       "      <td>1</td>\n",
       "    </tr>\n",
       "    <tr>\n",
       "      <th>4</th>\n",
       "      <td>57</td>\n",
       "      <td>0</td>\n",
       "      <td>0</td>\n",
       "      <td>120</td>\n",
       "      <td>354</td>\n",
       "      <td>0</td>\n",
       "      <td>1</td>\n",
       "      <td>163</td>\n",
       "      <td>1</td>\n",
       "      <td>0.6</td>\n",
       "      <td>2</td>\n",
       "      <td>0</td>\n",
       "      <td>2</td>\n",
       "      <td>1</td>\n",
       "    </tr>\n",
       "  </tbody>\n",
       "</table>\n",
       "</div>"
      ],
      "text/plain": [
       "   age  sex  cp  trestbps  chol  fbs  restecg  thalach  exang  oldpeak  slope  \\\n",
       "0   63    1   3       145   233    1        0      150      0      2.3      0   \n",
       "1   37    1   2       130   250    0        1      187      0      3.5      0   \n",
       "2   41    0   1       130   204    0        0      172      0      1.4      2   \n",
       "3   56    1   1       120   236    0        1      178      0      0.8      2   \n",
       "4   57    0   0       120   354    0        1      163      1      0.6      2   \n",
       "\n",
       "   ca  thal  target  \n",
       "0   0     1       1  \n",
       "1   0     2       1  \n",
       "2   0     2       1  \n",
       "3   0     2       1  \n",
       "4   0     2       1  "
      ]
     },
     "execution_count": 2,
     "metadata": {},
     "output_type": "execute_result"
    }
   ],
   "source": [
    "file_path = '/kaggle/input/heart-disease-dataset/heart-disease.csv'\n",
    "df = pd.read_csv(file_path)\n",
    "df.head()"
   ]
  },
  {
   "cell_type": "markdown",
   "id": "7e92c7d2",
   "metadata": {
    "id": "LxXx3oguk8Cy",
    "papermill": {
     "duration": 0.028726,
     "end_time": "2024-04-01T06:55:40.366416",
     "exception": false,
     "start_time": "2024-04-01T06:55:40.337690",
     "status": "completed"
    },
    "tags": []
   },
   "source": [
    "## Exploratory Data Analysis"
   ]
  },
  {
   "cell_type": "code",
   "execution_count": 3,
   "id": "cecb509a",
   "metadata": {
    "execution": {
     "iopub.execute_input": "2024-04-01T06:55:40.427592Z",
     "iopub.status.busy": "2024-04-01T06:55:40.427184Z",
     "iopub.status.idle": "2024-04-01T06:55:40.434836Z",
     "shell.execute_reply": "2024-04-01T06:55:40.433623Z"
    },
    "id": "t7enz-4XlGy6",
    "outputId": "418bbeba-0423-40b8-9957-dae7e8a2b6b6",
    "papermill": {
     "duration": 0.041381,
     "end_time": "2024-04-01T06:55:40.437841",
     "exception": false,
     "start_time": "2024-04-01T06:55:40.396460",
     "status": "completed"
    },
    "tags": []
   },
   "outputs": [
    {
     "data": {
      "text/plain": [
       "(303, 14)"
      ]
     },
     "execution_count": 3,
     "metadata": {},
     "output_type": "execute_result"
    }
   ],
   "source": [
    "df.shape"
   ]
  },
  {
   "cell_type": "code",
   "execution_count": 4,
   "id": "b7db140e",
   "metadata": {
    "execution": {
     "iopub.execute_input": "2024-04-01T06:55:40.499989Z",
     "iopub.status.busy": "2024-04-01T06:55:40.499197Z",
     "iopub.status.idle": "2024-04-01T06:55:40.532378Z",
     "shell.execute_reply": "2024-04-01T06:55:40.531450Z"
    },
    "id": "xqFTjGjXlJzb",
    "outputId": "412c60ff-e2d2-4346-8077-d7c938fd48c5",
    "papermill": {
     "duration": 0.068476,
     "end_time": "2024-04-01T06:55:40.535461",
     "exception": false,
     "start_time": "2024-04-01T06:55:40.466985",
     "status": "completed"
    },
    "tags": []
   },
   "outputs": [
    {
     "name": "stdout",
     "output_type": "stream",
     "text": [
      "<class 'pandas.core.frame.DataFrame'>\n",
      "RangeIndex: 303 entries, 0 to 302\n",
      "Data columns (total 14 columns):\n",
      " #   Column    Non-Null Count  Dtype  \n",
      "---  ------    --------------  -----  \n",
      " 0   age       303 non-null    int64  \n",
      " 1   sex       303 non-null    int64  \n",
      " 2   cp        303 non-null    int64  \n",
      " 3   trestbps  303 non-null    int64  \n",
      " 4   chol      303 non-null    int64  \n",
      " 5   fbs       303 non-null    int64  \n",
      " 6   restecg   303 non-null    int64  \n",
      " 7   thalach   303 non-null    int64  \n",
      " 8   exang     303 non-null    int64  \n",
      " 9   oldpeak   303 non-null    float64\n",
      " 10  slope     303 non-null    int64  \n",
      " 11  ca        303 non-null    int64  \n",
      " 12  thal      303 non-null    int64  \n",
      " 13  target    303 non-null    int64  \n",
      "dtypes: float64(1), int64(13)\n",
      "memory usage: 33.3 KB\n"
     ]
    }
   ],
   "source": [
    "df.info()"
   ]
  },
  {
   "cell_type": "markdown",
   "id": "404d8c96",
   "metadata": {
    "id": "i6i2jbCRlOWr",
    "papermill": {
     "duration": 0.029882,
     "end_time": "2024-04-01T06:55:40.596346",
     "exception": false,
     "start_time": "2024-04-01T06:55:40.566464",
     "status": "completed"
    },
    "tags": []
   },
   "source": [
    "### Are there any missing values?"
   ]
  },
  {
   "cell_type": "code",
   "execution_count": 5,
   "id": "ea3c8416",
   "metadata": {
    "execution": {
     "iopub.execute_input": "2024-04-01T06:55:40.659247Z",
     "iopub.status.busy": "2024-04-01T06:55:40.658805Z",
     "iopub.status.idle": "2024-04-01T06:55:40.668179Z",
     "shell.execute_reply": "2024-04-01T06:55:40.666989Z"
    },
    "id": "dw8g0edZlfLC",
    "outputId": "586392c0-cba8-4309-cf99-f828c64f3afc",
    "papermill": {
     "duration": 0.044302,
     "end_time": "2024-04-01T06:55:40.670885",
     "exception": false,
     "start_time": "2024-04-01T06:55:40.626583",
     "status": "completed"
    },
    "tags": []
   },
   "outputs": [
    {
     "data": {
      "text/plain": [
       "age         0\n",
       "sex         0\n",
       "cp          0\n",
       "trestbps    0\n",
       "chol        0\n",
       "fbs         0\n",
       "restecg     0\n",
       "thalach     0\n",
       "exang       0\n",
       "oldpeak     0\n",
       "slope       0\n",
       "ca          0\n",
       "thal        0\n",
       "target      0\n",
       "dtype: int64"
      ]
     },
     "execution_count": 5,
     "metadata": {},
     "output_type": "execute_result"
    }
   ],
   "source": [
    "df.isna().sum()"
   ]
  },
  {
   "cell_type": "markdown",
   "id": "094447dd",
   "metadata": {
    "id": "fjJwp5zElhHe",
    "papermill": {
     "duration": 0.124456,
     "end_time": "2024-04-01T06:55:40.828367",
     "exception": false,
     "start_time": "2024-04-01T06:55:40.703911",
     "status": "completed"
    },
    "tags": []
   },
   "source": [
    "#### **Inference : No missing value**"
   ]
  },
  {
   "cell_type": "code",
   "execution_count": 6,
   "id": "8111afdf",
   "metadata": {
    "execution": {
     "iopub.execute_input": "2024-04-01T06:55:40.893433Z",
     "iopub.status.busy": "2024-04-01T06:55:40.892929Z",
     "iopub.status.idle": "2024-04-01T06:55:40.955813Z",
     "shell.execute_reply": "2024-04-01T06:55:40.952021Z"
    },
    "id": "zb1tEzOelsrj",
    "outputId": "89fcf42d-1a6e-407d-8b81-3b7b5fe74784",
    "papermill": {
     "duration": 0.101263,
     "end_time": "2024-04-01T06:55:40.960396",
     "exception": false,
     "start_time": "2024-04-01T06:55:40.859133",
     "status": "completed"
    },
    "tags": []
   },
   "outputs": [
    {
     "data": {
      "text/html": [
       "<div>\n",
       "<style scoped>\n",
       "    .dataframe tbody tr th:only-of-type {\n",
       "        vertical-align: middle;\n",
       "    }\n",
       "\n",
       "    .dataframe tbody tr th {\n",
       "        vertical-align: top;\n",
       "    }\n",
       "\n",
       "    .dataframe thead th {\n",
       "        text-align: right;\n",
       "    }\n",
       "</style>\n",
       "<table border=\"1\" class=\"dataframe\">\n",
       "  <thead>\n",
       "    <tr style=\"text-align: right;\">\n",
       "      <th></th>\n",
       "      <th>age</th>\n",
       "      <th>sex</th>\n",
       "      <th>cp</th>\n",
       "      <th>trestbps</th>\n",
       "      <th>chol</th>\n",
       "      <th>fbs</th>\n",
       "      <th>restecg</th>\n",
       "      <th>thalach</th>\n",
       "      <th>exang</th>\n",
       "      <th>oldpeak</th>\n",
       "      <th>slope</th>\n",
       "      <th>ca</th>\n",
       "      <th>thal</th>\n",
       "      <th>target</th>\n",
       "    </tr>\n",
       "  </thead>\n",
       "  <tbody>\n",
       "    <tr>\n",
       "      <th>count</th>\n",
       "      <td>303.000000</td>\n",
       "      <td>303.000000</td>\n",
       "      <td>303.000000</td>\n",
       "      <td>303.000000</td>\n",
       "      <td>303.000000</td>\n",
       "      <td>303.000000</td>\n",
       "      <td>303.000000</td>\n",
       "      <td>303.000000</td>\n",
       "      <td>303.000000</td>\n",
       "      <td>303.000000</td>\n",
       "      <td>303.000000</td>\n",
       "      <td>303.000000</td>\n",
       "      <td>303.000000</td>\n",
       "      <td>303.000000</td>\n",
       "    </tr>\n",
       "    <tr>\n",
       "      <th>mean</th>\n",
       "      <td>54.366337</td>\n",
       "      <td>0.683168</td>\n",
       "      <td>0.966997</td>\n",
       "      <td>131.623762</td>\n",
       "      <td>246.264026</td>\n",
       "      <td>0.148515</td>\n",
       "      <td>0.528053</td>\n",
       "      <td>149.646865</td>\n",
       "      <td>0.326733</td>\n",
       "      <td>1.039604</td>\n",
       "      <td>1.399340</td>\n",
       "      <td>0.729373</td>\n",
       "      <td>2.313531</td>\n",
       "      <td>0.544554</td>\n",
       "    </tr>\n",
       "    <tr>\n",
       "      <th>std</th>\n",
       "      <td>9.082101</td>\n",
       "      <td>0.466011</td>\n",
       "      <td>1.032052</td>\n",
       "      <td>17.538143</td>\n",
       "      <td>51.830751</td>\n",
       "      <td>0.356198</td>\n",
       "      <td>0.525860</td>\n",
       "      <td>22.905161</td>\n",
       "      <td>0.469794</td>\n",
       "      <td>1.161075</td>\n",
       "      <td>0.616226</td>\n",
       "      <td>1.022606</td>\n",
       "      <td>0.612277</td>\n",
       "      <td>0.498835</td>\n",
       "    </tr>\n",
       "    <tr>\n",
       "      <th>min</th>\n",
       "      <td>29.000000</td>\n",
       "      <td>0.000000</td>\n",
       "      <td>0.000000</td>\n",
       "      <td>94.000000</td>\n",
       "      <td>126.000000</td>\n",
       "      <td>0.000000</td>\n",
       "      <td>0.000000</td>\n",
       "      <td>71.000000</td>\n",
       "      <td>0.000000</td>\n",
       "      <td>0.000000</td>\n",
       "      <td>0.000000</td>\n",
       "      <td>0.000000</td>\n",
       "      <td>0.000000</td>\n",
       "      <td>0.000000</td>\n",
       "    </tr>\n",
       "    <tr>\n",
       "      <th>25%</th>\n",
       "      <td>47.500000</td>\n",
       "      <td>0.000000</td>\n",
       "      <td>0.000000</td>\n",
       "      <td>120.000000</td>\n",
       "      <td>211.000000</td>\n",
       "      <td>0.000000</td>\n",
       "      <td>0.000000</td>\n",
       "      <td>133.500000</td>\n",
       "      <td>0.000000</td>\n",
       "      <td>0.000000</td>\n",
       "      <td>1.000000</td>\n",
       "      <td>0.000000</td>\n",
       "      <td>2.000000</td>\n",
       "      <td>0.000000</td>\n",
       "    </tr>\n",
       "    <tr>\n",
       "      <th>50%</th>\n",
       "      <td>55.000000</td>\n",
       "      <td>1.000000</td>\n",
       "      <td>1.000000</td>\n",
       "      <td>130.000000</td>\n",
       "      <td>240.000000</td>\n",
       "      <td>0.000000</td>\n",
       "      <td>1.000000</td>\n",
       "      <td>153.000000</td>\n",
       "      <td>0.000000</td>\n",
       "      <td>0.800000</td>\n",
       "      <td>1.000000</td>\n",
       "      <td>0.000000</td>\n",
       "      <td>2.000000</td>\n",
       "      <td>1.000000</td>\n",
       "    </tr>\n",
       "    <tr>\n",
       "      <th>75%</th>\n",
       "      <td>61.000000</td>\n",
       "      <td>1.000000</td>\n",
       "      <td>2.000000</td>\n",
       "      <td>140.000000</td>\n",
       "      <td>274.500000</td>\n",
       "      <td>0.000000</td>\n",
       "      <td>1.000000</td>\n",
       "      <td>166.000000</td>\n",
       "      <td>1.000000</td>\n",
       "      <td>1.600000</td>\n",
       "      <td>2.000000</td>\n",
       "      <td>1.000000</td>\n",
       "      <td>3.000000</td>\n",
       "      <td>1.000000</td>\n",
       "    </tr>\n",
       "    <tr>\n",
       "      <th>max</th>\n",
       "      <td>77.000000</td>\n",
       "      <td>1.000000</td>\n",
       "      <td>3.000000</td>\n",
       "      <td>200.000000</td>\n",
       "      <td>564.000000</td>\n",
       "      <td>1.000000</td>\n",
       "      <td>2.000000</td>\n",
       "      <td>202.000000</td>\n",
       "      <td>1.000000</td>\n",
       "      <td>6.200000</td>\n",
       "      <td>2.000000</td>\n",
       "      <td>4.000000</td>\n",
       "      <td>3.000000</td>\n",
       "      <td>1.000000</td>\n",
       "    </tr>\n",
       "  </tbody>\n",
       "</table>\n",
       "</div>"
      ],
      "text/plain": [
       "              age         sex          cp    trestbps        chol         fbs  \\\n",
       "count  303.000000  303.000000  303.000000  303.000000  303.000000  303.000000   \n",
       "mean    54.366337    0.683168    0.966997  131.623762  246.264026    0.148515   \n",
       "std      9.082101    0.466011    1.032052   17.538143   51.830751    0.356198   \n",
       "min     29.000000    0.000000    0.000000   94.000000  126.000000    0.000000   \n",
       "25%     47.500000    0.000000    0.000000  120.000000  211.000000    0.000000   \n",
       "50%     55.000000    1.000000    1.000000  130.000000  240.000000    0.000000   \n",
       "75%     61.000000    1.000000    2.000000  140.000000  274.500000    0.000000   \n",
       "max     77.000000    1.000000    3.000000  200.000000  564.000000    1.000000   \n",
       "\n",
       "          restecg     thalach       exang     oldpeak       slope          ca  \\\n",
       "count  303.000000  303.000000  303.000000  303.000000  303.000000  303.000000   \n",
       "mean     0.528053  149.646865    0.326733    1.039604    1.399340    0.729373   \n",
       "std      0.525860   22.905161    0.469794    1.161075    0.616226    1.022606   \n",
       "min      0.000000   71.000000    0.000000    0.000000    0.000000    0.000000   \n",
       "25%      0.000000  133.500000    0.000000    0.000000    1.000000    0.000000   \n",
       "50%      1.000000  153.000000    0.000000    0.800000    1.000000    0.000000   \n",
       "75%      1.000000  166.000000    1.000000    1.600000    2.000000    1.000000   \n",
       "max      2.000000  202.000000    1.000000    6.200000    2.000000    4.000000   \n",
       "\n",
       "             thal      target  \n",
       "count  303.000000  303.000000  \n",
       "mean     2.313531    0.544554  \n",
       "std      0.612277    0.498835  \n",
       "min      0.000000    0.000000  \n",
       "25%      2.000000    0.000000  \n",
       "50%      2.000000    1.000000  \n",
       "75%      3.000000    1.000000  \n",
       "max      3.000000    1.000000  "
      ]
     },
     "execution_count": 6,
     "metadata": {},
     "output_type": "execute_result"
    }
   ],
   "source": [
    "df.describe()"
   ]
  },
  {
   "cell_type": "markdown",
   "id": "bcb7b508",
   "metadata": {
    "id": "3fOQxFLnlveS",
    "papermill": {
     "duration": 0.032052,
     "end_time": "2024-04-01T06:55:41.034685",
     "exception": false,
     "start_time": "2024-04-01T06:55:41.002633",
     "status": "completed"
    },
    "tags": []
   },
   "source": [
    "### Count of having heart disease or not"
   ]
  },
  {
   "cell_type": "code",
   "execution_count": 7,
   "id": "d5e9d23a",
   "metadata": {
    "execution": {
     "iopub.execute_input": "2024-04-01T06:55:41.098175Z",
     "iopub.status.busy": "2024-04-01T06:55:41.097378Z",
     "iopub.status.idle": "2024-04-01T06:55:41.109293Z",
     "shell.execute_reply": "2024-04-01T06:55:41.108282Z"
    },
    "id": "5ECNsrG1mP_z",
    "outputId": "7e0b625d-5ad0-4fdc-a097-4e1cad1d2631",
    "papermill": {
     "duration": 0.046011,
     "end_time": "2024-04-01T06:55:41.111700",
     "exception": false,
     "start_time": "2024-04-01T06:55:41.065689",
     "status": "completed"
    },
    "tags": []
   },
   "outputs": [
    {
     "data": {
      "text/plain": [
       "target\n",
       "1    165\n",
       "0    138\n",
       "Name: count, dtype: int64"
      ]
     },
     "execution_count": 7,
     "metadata": {},
     "output_type": "execute_result"
    }
   ],
   "source": [
    "df['target'].value_counts()"
   ]
  },
  {
   "cell_type": "code",
   "execution_count": 8,
   "id": "dd276004",
   "metadata": {
    "execution": {
     "iopub.execute_input": "2024-04-01T06:55:41.183862Z",
     "iopub.status.busy": "2024-04-01T06:55:41.182819Z",
     "iopub.status.idle": "2024-04-01T06:55:41.519683Z",
     "shell.execute_reply": "2024-04-01T06:55:41.518278Z"
    },
    "id": "OKPup5-VmY4b",
    "outputId": "415f0d91-f26c-4b91-ca3c-d7541e2bd13b",
    "papermill": {
     "duration": 0.378551,
     "end_time": "2024-04-01T06:55:41.522803",
     "exception": false,
     "start_time": "2024-04-01T06:55:41.144252",
     "status": "completed"
    },
    "tags": []
   },
   "outputs": [
    {
     "data": {
      "image/png": "[encoded data removed]",
      "text/plain": [
       "<Figure size 640x480 with 1 Axes>"
      ]
     },
     "metadata": {},
     "output_type": "display_data"
    }
   ],
   "source": [
    "fig, ax = plt.subplots()\n",
    "\n",
    "x = [\"Heart Disease\", \"No Heart Disease\"]\n",
    "counts = [df['target'].value_counts()[0], df['target'].value_counts()[1]]\n",
    "\n",
    "ax.bar(x, counts, color=['salmon', 'lightblue'])\n",
    "ax.set_title(\"Count of patients having heart disease or not\")\n",
    "ax.set_ylabel(\"Count of patients\");"
   ]
  },
  {
   "cell_type": "markdown",
   "id": "40a564ae",
   "metadata": {
    "id": "cWQ_BG9DE6my",
    "papermill": {
     "duration": 0.030613,
     "end_time": "2024-04-01T06:55:41.584465",
     "exception": false,
     "start_time": "2024-04-01T06:55:41.553852",
     "status": "completed"
    },
    "tags": []
   },
   "source": [
    "Count of Heart Disease sample = 165\n",
    "count of No Heart Disease sample = 138\n",
    "\n",
    "#### **Inference : Dataset is balanced as number of samples of each class are roughly equal.**"
   ]
  },
  {
   "cell_type": "markdown",
   "id": "4bf5ac7d",
   "metadata": {
    "id": "7fyhMjSOnVo6",
    "papermill": {
     "duration": 0.031129,
     "end_time": "2024-04-01T06:55:41.646699",
     "exception": false,
     "start_time": "2024-04-01T06:55:41.615570",
     "status": "completed"
    },
    "tags": []
   },
   "source": [
    "### Heart disease counts according to sex"
   ]
  },
  {
   "cell_type": "code",
   "execution_count": 9,
   "id": "d25251e3",
   "metadata": {
    "execution": {
     "iopub.execute_input": "2024-04-01T06:55:41.709225Z",
     "iopub.status.busy": "2024-04-01T06:55:41.708753Z",
     "iopub.status.idle": "2024-04-01T06:55:41.739087Z",
     "shell.execute_reply": "2024-04-01T06:55:41.737600Z"
    },
    "id": "VaOTrWJhn8VR",
    "outputId": "ab62bf86-4020-49c4-d64f-22d4e1f7afbb",
    "papermill": {
     "duration": 0.065249,
     "end_time": "2024-04-01T06:55:41.741851",
     "exception": false,
     "start_time": "2024-04-01T06:55:41.676602",
     "status": "completed"
    },
    "tags": []
   },
   "outputs": [
    {
     "data": {
      "text/html": [
       "<div>\n",
       "<style scoped>\n",
       "    .dataframe tbody tr th:only-of-type {\n",
       "        vertical-align: middle;\n",
       "    }\n",
       "\n",
       "    .dataframe tbody tr th {\n",
       "        vertical-align: top;\n",
       "    }\n",
       "\n",
       "    .dataframe thead th {\n",
       "        text-align: right;\n",
       "    }\n",
       "</style>\n",
       "<table border=\"1\" class=\"dataframe\">\n",
       "  <thead>\n",
       "    <tr style=\"text-align: right;\">\n",
       "      <th>target</th>\n",
       "      <th>0</th>\n",
       "      <th>1</th>\n",
       "    </tr>\n",
       "    <tr>\n",
       "      <th>sex</th>\n",
       "      <th></th>\n",
       "      <th></th>\n",
       "    </tr>\n",
       "  </thead>\n",
       "  <tbody>\n",
       "    <tr>\n",
       "      <th>0</th>\n",
       "      <td>24</td>\n",
       "      <td>72</td>\n",
       "    </tr>\n",
       "    <tr>\n",
       "      <th>1</th>\n",
       "      <td>114</td>\n",
       "      <td>93</td>\n",
       "    </tr>\n",
       "  </tbody>\n",
       "</table>\n",
       "</div>"
      ],
      "text/plain": [
       "target    0   1\n",
       "sex            \n",
       "0        24  72\n",
       "1       114  93"
      ]
     },
     "execution_count": 9,
     "metadata": {},
     "output_type": "execute_result"
    }
   ],
   "source": [
    "pd.crosstab(df['sex'], df['target'])"
   ]
  },
  {
   "cell_type": "markdown",
   "id": "f6056769",
   "metadata": {
    "id": "pK32MktAriIM",
    "papermill": {
     "duration": 0.030566,
     "end_time": "2024-04-01T06:55:41.803034",
     "exception": false,
     "start_time": "2024-04-01T06:55:41.772468",
     "status": "completed"
    },
    "tags": []
   },
   "source": [
    "#### **Inference : Above table shows that 75% chance of heart disease in female and 45% chance of heart disease in male.**\n",
    "\n",
    "We can deduce the same conclusion by drawing graph."
   ]
  },
  {
   "cell_type": "code",
   "execution_count": 10,
   "id": "c92724e0",
   "metadata": {
    "execution": {
     "iopub.execute_input": "2024-04-01T06:55:41.868545Z",
     "iopub.status.busy": "2024-04-01T06:55:41.868125Z",
     "iopub.status.idle": "2024-04-01T06:55:42.187223Z",
     "shell.execute_reply": "2024-04-01T06:55:42.185815Z"
    },
    "id": "OOuC7HRzpOEa",
    "outputId": "13315977-4c15-4cec-8b56-6077c0d0b131",
    "papermill": {
     "duration": 0.355344,
     "end_time": "2024-04-01T06:55:42.190191",
     "exception": false,
     "start_time": "2024-04-01T06:55:41.834847",
     "status": "completed"
    },
    "tags": []
   },
   "outputs": [
    {
     "data": {
      "image/png": "[encoded data removed]",
      "text/plain": [
       "<Figure size 1000x600 with 1 Axes>"
      ]
     },
     "metadata": {},
     "output_type": "display_data"
    }
   ],
   "source": [
    "pd.crosstab(df['sex'], df['target']).plot(kind='bar', color=['lightblue', 'salmon'], figsize=(10,6))\n",
    "\n",
    "plt.title(\"Heart disease counts for sex\")\n",
    "plt.xlabel('0 = female, 1 = male')\n",
    "plt.ylabel('Count')\n",
    "plt.legend(['No Disease', 'Disease'])\n",
    "plt.xticks(rotation=0);"
   ]
  },
  {
   "cell_type": "markdown",
   "id": "25a2b599",
   "metadata": {
    "id": "jWRrcyUjqjLR",
    "papermill": {
     "duration": 0.031449,
     "end_time": "2024-04-01T06:55:42.252823",
     "exception": false,
     "start_time": "2024-04-01T06:55:42.221374",
     "status": "completed"
    },
    "tags": []
   },
   "source": [
    "### Age vs. Max heart Rate for Heart Disease"
   ]
  },
  {
   "cell_type": "code",
   "execution_count": 11,
   "id": "f8de4766",
   "metadata": {
    "execution": {
     "iopub.execute_input": "2024-04-01T06:55:42.318237Z",
     "iopub.status.busy": "2024-04-01T06:55:42.317839Z",
     "iopub.status.idle": "2024-04-01T06:55:42.857601Z",
     "shell.execute_reply": "2024-04-01T06:55:42.856649Z"
    },
    "id": "nnuN3apgugYZ",
    "outputId": "a8dd563f-0ec8-413d-e566-f1fc45e87e44",
    "papermill": {
     "duration": 0.577302,
     "end_time": "2024-04-01T06:55:42.861105",
     "exception": false,
     "start_time": "2024-04-01T06:55:42.283803",
     "status": "completed"
    },
    "tags": []
   },
   "outputs": [
    {
     "data": {
      "image/png": "[encoded data removed]",
      "text/plain": [
       "<Figure size 1000x600 with 1 Axes>"
      ]
     },
     "metadata": {},
     "output_type": "display_data"
    }
   ],
   "source": [
    "import matplotlib.colors as mcolors\n",
    "fig, ax = plt.subplots(figsize=(10,6))\n",
    "\n",
    "cmap = mcolors.ListedColormap(['lightblue', 'salmon'])\n",
    "scatter = ax.scatter(df['age'], df['thalach'], c=df['target'], cmap=cmap)\n",
    "ax.set_title(\"Heart disease in function of age and max heart rate\")\n",
    "ax.set_xlabel(\"Age\")\n",
    "ax.set_ylabel(\"Max Heart Rate\")\n",
    "ax.legend(*scatter.legend_elements(), title=\"Target\");"
   ]
  },
  {
   "cell_type": "markdown",
   "id": "3878b865",
   "metadata": {
    "id": "u40_mmtlGN2j",
    "papermill": {
     "duration": 0.033138,
     "end_time": "2024-04-01T06:55:42.928247",
     "exception": false,
     "start_time": "2024-04-01T06:55:42.895109",
     "status": "completed"
    },
    "tags": []
   },
   "source": [
    "#### **Inference : In younger age groups, heart disease is more commonly found in individuals with higher heart rates, while in older age groups, heart disease is prevalent across all heart rates.**"
   ]
  },
  {
   "cell_type": "code",
   "execution_count": 12,
   "id": "e12bc2ef",
   "metadata": {
    "execution": {
     "iopub.execute_input": "2024-04-01T06:55:42.998982Z",
     "iopub.status.busy": "2024-04-01T06:55:42.997853Z",
     "iopub.status.idle": "2024-04-01T06:55:43.297845Z",
     "shell.execute_reply": "2024-04-01T06:55:43.296187Z"
    },
    "id": "vasya3-Ou2dI",
    "outputId": "b919a955-389a-4cac-95e0-5a451b769a6f",
    "papermill": {
     "duration": 0.339456,
     "end_time": "2024-04-01T06:55:43.300852",
     "exception": false,
     "start_time": "2024-04-01T06:55:42.961396",
     "status": "completed"
    },
    "tags": []
   },
   "outputs": [
    {
     "data": {
      "image/png": "[encoded data removed]",
      "text/plain": [
       "<Figure size 640x480 with 1 Axes>"
      ]
     },
     "metadata": {},
     "output_type": "display_data"
    }
   ],
   "source": [
    "# Distribution of age using histogram.\n",
    "df['age'].plot(kind='hist');"
   ]
  },
  {
   "cell_type": "markdown",
   "id": "94063237",
   "metadata": {
    "id": "s6FEgKVN_ote",
    "papermill": {
     "duration": 0.03359,
     "end_time": "2024-04-01T06:55:43.369148",
     "exception": false,
     "start_time": "2024-04-01T06:55:43.335558",
     "status": "completed"
    },
    "tags": []
   },
   "source": [
    "### Correlation"
   ]
  },
  {
   "cell_type": "code",
   "execution_count": 13,
   "id": "0ee0645a",
   "metadata": {
    "execution": {
     "iopub.execute_input": "2024-04-01T06:55:43.439387Z",
     "iopub.status.busy": "2024-04-01T06:55:43.438983Z",
     "iopub.status.idle": "2024-04-01T06:55:44.546270Z",
     "shell.execute_reply": "2024-04-01T06:55:44.545070Z"
    },
    "id": "OJZH9intAeSE",
    "outputId": "abb04655-9c69-4084-a0fc-c95f78fc5ed4",
    "papermill": {
     "duration": 1.148764,
     "end_time": "2024-04-01T06:55:44.551279",
     "exception": false,
     "start_time": "2024-04-01T06:55:43.402515",
     "status": "completed"
    },
    "tags": []
   },
   "outputs": [
    {
     "data": {
      "image/png": "[encoded data removed]",
      "text/plain": [
       "<Figure size 1200x800 with 2 Axes>"
      ]
     },
     "metadata": {},
     "output_type": "display_data"
    }
   ],
   "source": [
    "plt.figure(figsize=(12,8))\n",
    "sns.heatmap(df.corr(numeric_only=True), annot=True, fmt='.2f', cmap=\"YlGnBu\");"
   ]
  },
  {
   "cell_type": "markdown",
   "id": "c20dae8c",
   "metadata": {
    "id": "9IdOOaJqG8NR",
    "papermill": {
     "duration": 0.03666,
     "end_time": "2024-04-01T06:55:44.624323",
     "exception": false,
     "start_time": "2024-04-01T06:55:44.587663",
     "status": "completed"
    },
    "tags": []
   },
   "source": [
    "#### Inference : There is no such strong correlation.\n",
    "  -"
   ]
  },
  {
   "cell_type": "markdown",
   "id": "e32ede07",
   "metadata": {
    "id": "cshvISuuAkP0",
    "papermill": {
     "duration": 0.036246,
     "end_time": "2024-04-01T06:55:44.697730",
     "exception": false,
     "start_time": "2024-04-01T06:55:44.661484",
     "status": "completed"
    },
    "tags": []
   },
   "source": [
    "## Modelling"
   ]
  },
  {
   "cell_type": "code",
   "execution_count": 14,
   "id": "cde5d21b",
   "metadata": {
    "execution": {
     "iopub.execute_input": "2024-04-01T06:55:44.771906Z",
     "iopub.status.busy": "2024-04-01T06:55:44.771455Z",
     "iopub.status.idle": "2024-04-01T06:55:44.790009Z",
     "shell.execute_reply": "2024-04-01T06:55:44.788578Z"
    },
    "id": "u5kCczaoZMft",
    "outputId": "24955119-fc33-4cdb-cdb0-d39a158053a3",
    "papermill": {
     "duration": 0.058831,
     "end_time": "2024-04-01T06:55:44.792410",
     "exception": false,
     "start_time": "2024-04-01T06:55:44.733579",
     "status": "completed"
    },
    "tags": []
   },
   "outputs": [
    {
     "data": {
      "text/html": [
       "<div>\n",
       "<style scoped>\n",
       "    .dataframe tbody tr th:only-of-type {\n",
       "        vertical-align: middle;\n",
       "    }\n",
       "\n",
       "    .dataframe tbody tr th {\n",
       "        vertical-align: top;\n",
       "    }\n",
       "\n",
       "    .dataframe thead th {\n",
       "        text-align: right;\n",
       "    }\n",
       "</style>\n",
       "<table border=\"1\" class=\"dataframe\">\n",
       "  <thead>\n",
       "    <tr style=\"text-align: right;\">\n",
       "      <th></th>\n",
       "      <th>age</th>\n",
       "      <th>sex</th>\n",
       "      <th>cp</th>\n",
       "      <th>trestbps</th>\n",
       "      <th>chol</th>\n",
       "      <th>fbs</th>\n",
       "      <th>restecg</th>\n",
       "      <th>thalach</th>\n",
       "      <th>exang</th>\n",
       "      <th>oldpeak</th>\n",
       "      <th>slope</th>\n",
       "      <th>ca</th>\n",
       "      <th>thal</th>\n",
       "      <th>target</th>\n",
       "    </tr>\n",
       "  </thead>\n",
       "  <tbody>\n",
       "    <tr>\n",
       "      <th>0</th>\n",
       "      <td>63</td>\n",
       "      <td>1</td>\n",
       "      <td>3</td>\n",
       "      <td>145</td>\n",
       "      <td>233</td>\n",
       "      <td>1</td>\n",
       "      <td>0</td>\n",
       "      <td>150</td>\n",
       "      <td>0</td>\n",
       "      <td>2.3</td>\n",
       "      <td>0</td>\n",
       "      <td>0</td>\n",
       "      <td>1</td>\n",
       "      <td>1</td>\n",
       "    </tr>\n",
       "    <tr>\n",
       "      <th>1</th>\n",
       "      <td>37</td>\n",
       "      <td>1</td>\n",
       "      <td>2</td>\n",
       "      <td>130</td>\n",
       "      <td>250</td>\n",
       "      <td>0</td>\n",
       "      <td>1</td>\n",
       "      <td>187</td>\n",
       "      <td>0</td>\n",
       "      <td>3.5</td>\n",
       "      <td>0</td>\n",
       "      <td>0</td>\n",
       "      <td>2</td>\n",
       "      <td>1</td>\n",
       "    </tr>\n",
       "    <tr>\n",
       "      <th>2</th>\n",
       "      <td>41</td>\n",
       "      <td>0</td>\n",
       "      <td>1</td>\n",
       "      <td>130</td>\n",
       "      <td>204</td>\n",
       "      <td>0</td>\n",
       "      <td>0</td>\n",
       "      <td>172</td>\n",
       "      <td>0</td>\n",
       "      <td>1.4</td>\n",
       "      <td>2</td>\n",
       "      <td>0</td>\n",
       "      <td>2</td>\n",
       "      <td>1</td>\n",
       "    </tr>\n",
       "    <tr>\n",
       "      <th>3</th>\n",
       "      <td>56</td>\n",
       "      <td>1</td>\n",
       "      <td>1</td>\n",
       "      <td>120</td>\n",
       "      <td>236</td>\n",
       "      <td>0</td>\n",
       "      <td>1</td>\n",
       "      <td>178</td>\n",
       "      <td>0</td>\n",
       "      <td>0.8</td>\n",
       "      <td>2</td>\n",
       "      <td>0</td>\n",
       "      <td>2</td>\n",
       "      <td>1</td>\n",
       "    </tr>\n",
       "    <tr>\n",
       "      <th>4</th>\n",
       "      <td>57</td>\n",
       "      <td>0</td>\n",
       "      <td>0</td>\n",
       "      <td>120</td>\n",
       "      <td>354</td>\n",
       "      <td>0</td>\n",
       "      <td>1</td>\n",
       "      <td>163</td>\n",
       "      <td>1</td>\n",
       "      <td>0.6</td>\n",
       "      <td>2</td>\n",
       "      <td>0</td>\n",
       "      <td>2</td>\n",
       "      <td>1</td>\n",
       "    </tr>\n",
       "  </tbody>\n",
       "</table>\n",
       "</div>"
      ],
      "text/plain": [
       "   age  sex  cp  trestbps  chol  fbs  restecg  thalach  exang  oldpeak  slope  \\\n",
       "0   63    1   3       145   233    1        0      150      0      2.3      0   \n",
       "1   37    1   2       130   250    0        1      187      0      3.5      0   \n",
       "2   41    0   1       130   204    0        0      172      0      1.4      2   \n",
       "3   56    1   1       120   236    0        1      178      0      0.8      2   \n",
       "4   57    0   0       120   354    0        1      163      1      0.6      2   \n",
       "\n",
       "   ca  thal  target  \n",
       "0   0     1       1  \n",
       "1   0     2       1  \n",
       "2   0     2       1  \n",
       "3   0     2       1  \n",
       "4   0     2       1  "
      ]
     },
     "execution_count": 14,
     "metadata": {},
     "output_type": "execute_result"
    }
   ],
   "source": [
    "df.head()"
   ]
  },
  {
   "cell_type": "code",
   "execution_count": 15,
   "id": "9aee28a2",
   "metadata": {
    "execution": {
     "iopub.execute_input": "2024-04-01T06:55:44.867144Z",
     "iopub.status.busy": "2024-04-01T06:55:44.866730Z",
     "iopub.status.idle": "2024-04-01T06:55:44.873100Z",
     "shell.execute_reply": "2024-04-01T06:55:44.872242Z"
    },
    "id": "fuTmLAFyZTtR",
    "papermill": {
     "duration": 0.046855,
     "end_time": "2024-04-01T06:55:44.875759",
     "exception": false,
     "start_time": "2024-04-01T06:55:44.828904",
     "status": "completed"
    },
    "tags": []
   },
   "outputs": [],
   "source": [
    "# Split the data into X and y\n",
    "X = df.drop('target', axis = 1)\n",
    "y = df['target']"
   ]
  },
  {
   "cell_type": "code",
   "execution_count": 16,
   "id": "87adcb43",
   "metadata": {
    "execution": {
     "iopub.execute_input": "2024-04-01T06:55:44.953007Z",
     "iopub.status.busy": "2024-04-01T06:55:44.951451Z",
     "iopub.status.idle": "2024-04-01T06:55:44.970866Z",
     "shell.execute_reply": "2024-04-01T06:55:44.969573Z"
    },
    "id": "A2CtuMF9aMPO",
    "outputId": "fa7480d3-96dd-4f28-a011-4fa2d3bb8e37",
    "papermill": {
     "duration": 0.060618,
     "end_time": "2024-04-01T06:55:44.973483",
     "exception": false,
     "start_time": "2024-04-01T06:55:44.912865",
     "status": "completed"
    },
    "tags": []
   },
   "outputs": [
    {
     "data": {
      "text/html": [
       "<div>\n",
       "<style scoped>\n",
       "    .dataframe tbody tr th:only-of-type {\n",
       "        vertical-align: middle;\n",
       "    }\n",
       "\n",
       "    .dataframe tbody tr th {\n",
       "        vertical-align: top;\n",
       "    }\n",
       "\n",
       "    .dataframe thead th {\n",
       "        text-align: right;\n",
       "    }\n",
       "</style>\n",
       "<table border=\"1\" class=\"dataframe\">\n",
       "  <thead>\n",
       "    <tr style=\"text-align: right;\">\n",
       "      <th></th>\n",
       "      <th>age</th>\n",
       "      <th>sex</th>\n",
       "      <th>cp</th>\n",
       "      <th>trestbps</th>\n",
       "      <th>chol</th>\n",
       "      <th>fbs</th>\n",
       "      <th>restecg</th>\n",
       "      <th>thalach</th>\n",
       "      <th>exang</th>\n",
       "      <th>oldpeak</th>\n",
       "      <th>slope</th>\n",
       "      <th>ca</th>\n",
       "      <th>thal</th>\n",
       "    </tr>\n",
       "  </thead>\n",
       "  <tbody>\n",
       "    <tr>\n",
       "      <th>0</th>\n",
       "      <td>63</td>\n",
       "      <td>1</td>\n",
       "      <td>3</td>\n",
       "      <td>145</td>\n",
       "      <td>233</td>\n",
       "      <td>1</td>\n",
       "      <td>0</td>\n",
       "      <td>150</td>\n",
       "      <td>0</td>\n",
       "      <td>2.3</td>\n",
       "      <td>0</td>\n",
       "      <td>0</td>\n",
       "      <td>1</td>\n",
       "    </tr>\n",
       "    <tr>\n",
       "      <th>1</th>\n",
       "      <td>37</td>\n",
       "      <td>1</td>\n",
       "      <td>2</td>\n",
       "      <td>130</td>\n",
       "      <td>250</td>\n",
       "      <td>0</td>\n",
       "      <td>1</td>\n",
       "      <td>187</td>\n",
       "      <td>0</td>\n",
       "      <td>3.5</td>\n",
       "      <td>0</td>\n",
       "      <td>0</td>\n",
       "      <td>2</td>\n",
       "    </tr>\n",
       "    <tr>\n",
       "      <th>2</th>\n",
       "      <td>41</td>\n",
       "      <td>0</td>\n",
       "      <td>1</td>\n",
       "      <td>130</td>\n",
       "      <td>204</td>\n",
       "      <td>0</td>\n",
       "      <td>0</td>\n",
       "      <td>172</td>\n",
       "      <td>0</td>\n",
       "      <td>1.4</td>\n",
       "      <td>2</td>\n",
       "      <td>0</td>\n",
       "      <td>2</td>\n",
       "    </tr>\n",
       "    <tr>\n",
       "      <th>3</th>\n",
       "      <td>56</td>\n",
       "      <td>1</td>\n",
       "      <td>1</td>\n",
       "      <td>120</td>\n",
       "      <td>236</td>\n",
       "      <td>0</td>\n",
       "      <td>1</td>\n",
       "      <td>178</td>\n",
       "      <td>0</td>\n",
       "      <td>0.8</td>\n",
       "      <td>2</td>\n",
       "      <td>0</td>\n",
       "      <td>2</td>\n",
       "    </tr>\n",
       "    <tr>\n",
       "      <th>4</th>\n",
       "      <td>57</td>\n",
       "      <td>0</td>\n",
       "      <td>0</td>\n",
       "      <td>120</td>\n",
       "      <td>354</td>\n",
       "      <td>0</td>\n",
       "      <td>1</td>\n",
       "      <td>163</td>\n",
       "      <td>1</td>\n",
       "      <td>0.6</td>\n",
       "      <td>2</td>\n",
       "      <td>0</td>\n",
       "      <td>2</td>\n",
       "    </tr>\n",
       "    <tr>\n",
       "      <th>...</th>\n",
       "      <td>...</td>\n",
       "      <td>...</td>\n",
       "      <td>...</td>\n",
       "      <td>...</td>\n",
       "      <td>...</td>\n",
       "      <td>...</td>\n",
       "      <td>...</td>\n",
       "      <td>...</td>\n",
       "      <td>...</td>\n",
       "      <td>...</td>\n",
       "      <td>...</td>\n",
       "      <td>...</td>\n",
       "      <td>...</td>\n",
       "    </tr>\n",
       "    <tr>\n",
       "      <th>298</th>\n",
       "      <td>57</td>\n",
       "      <td>0</td>\n",
       "      <td>0</td>\n",
       "      <td>140</td>\n",
       "      <td>241</td>\n",
       "      <td>0</td>\n",
       "      <td>1</td>\n",
       "      <td>123</td>\n",
       "      <td>1</td>\n",
       "      <td>0.2</td>\n",
       "      <td>1</td>\n",
       "      <td>0</td>\n",
       "      <td>3</td>\n",
       "    </tr>\n",
       "    <tr>\n",
       "      <th>299</th>\n",
       "      <td>45</td>\n",
       "      <td>1</td>\n",
       "      <td>3</td>\n",
       "      <td>110</td>\n",
       "      <td>264</td>\n",
       "      <td>0</td>\n",
       "      <td>1</td>\n",
       "      <td>132</td>\n",
       "      <td>0</td>\n",
       "      <td>1.2</td>\n",
       "      <td>1</td>\n",
       "      <td>0</td>\n",
       "      <td>3</td>\n",
       "    </tr>\n",
       "    <tr>\n",
       "      <th>300</th>\n",
       "      <td>68</td>\n",
       "      <td>1</td>\n",
       "      <td>0</td>\n",
       "      <td>144</td>\n",
       "      <td>193</td>\n",
       "      <td>1</td>\n",
       "      <td>1</td>\n",
       "      <td>141</td>\n",
       "      <td>0</td>\n",
       "      <td>3.4</td>\n",
       "      <td>1</td>\n",
       "      <td>2</td>\n",
       "      <td>3</td>\n",
       "    </tr>\n",
       "    <tr>\n",
       "      <th>301</th>\n",
       "      <td>57</td>\n",
       "      <td>1</td>\n",
       "      <td>0</td>\n",
       "      <td>130</td>\n",
       "      <td>131</td>\n",
       "      <td>0</td>\n",
       "      <td>1</td>\n",
       "      <td>115</td>\n",
       "      <td>1</td>\n",
       "      <td>1.2</td>\n",
       "      <td>1</td>\n",
       "      <td>1</td>\n",
       "      <td>3</td>\n",
       "    </tr>\n",
       "    <tr>\n",
       "      <th>302</th>\n",
       "      <td>57</td>\n",
       "      <td>0</td>\n",
       "      <td>1</td>\n",
       "      <td>130</td>\n",
       "      <td>236</td>\n",
       "      <td>0</td>\n",
       "      <td>0</td>\n",
       "      <td>174</td>\n",
       "      <td>0</td>\n",
       "      <td>0.0</td>\n",
       "      <td>1</td>\n",
       "      <td>1</td>\n",
       "      <td>2</td>\n",
       "    </tr>\n",
       "  </tbody>\n",
       "</table>\n",
       "<p>303 rows × 13 columns</p>\n",
       "</div>"
      ],
      "text/plain": [
       "     age  sex  cp  trestbps  chol  fbs  restecg  thalach  exang  oldpeak  \\\n",
       "0     63    1   3       145   233    1        0      150      0      2.3   \n",
       "1     37    1   2       130   250    0        1      187      0      3.5   \n",
       "2     41    0   1       130   204    0        0      172      0      1.4   \n",
       "3     56    1   1       120   236    0        1      178      0      0.8   \n",
       "4     57    0   0       120   354    0        1      163      1      0.6   \n",
       "..   ...  ...  ..       ...   ...  ...      ...      ...    ...      ...   \n",
       "298   57    0   0       140   241    0        1      123      1      0.2   \n",
       "299   45    1   3       110   264    0        1      132      0      1.2   \n",
       "300   68    1   0       144   193    1        1      141      0      3.4   \n",
       "301   57    1   0       130   131    0        1      115      1      1.2   \n",
       "302   57    0   1       130   236    0        0      174      0      0.0   \n",
       "\n",
       "     slope  ca  thal  \n",
       "0        0   0     1  \n",
       "1        0   0     2  \n",
       "2        2   0     2  \n",
       "3        2   0     2  \n",
       "4        2   0     2  \n",
       "..     ...  ..   ...  \n",
       "298      1   0     3  \n",
       "299      1   0     3  \n",
       "300      1   2     3  \n",
       "301      1   1     3  \n",
       "302      1   1     2  \n",
       "\n",
       "[303 rows x 13 columns]"
      ]
     },
     "execution_count": 16,
     "metadata": {},
     "output_type": "execute_result"
    }
   ],
   "source": [
    "X"
   ]
  },
  {
   "cell_type": "code",
   "execution_count": 17,
   "id": "da1158bf",
   "metadata": {
    "execution": {
     "iopub.execute_input": "2024-04-01T06:55:45.052849Z",
     "iopub.status.busy": "2024-04-01T06:55:45.051832Z",
     "iopub.status.idle": "2024-04-01T06:55:45.060954Z",
     "shell.execute_reply": "2024-04-01T06:55:45.059520Z"
    },
    "id": "_6rEd8ZaaSCW",
    "outputId": "978f4f13-5311-4bbf-84f2-56f7651dc22b",
    "papermill": {
     "duration": 0.050668,
     "end_time": "2024-04-01T06:55:45.063781",
     "exception": false,
     "start_time": "2024-04-01T06:55:45.013113",
     "status": "completed"
    },
    "tags": []
   },
   "outputs": [
    {
     "data": {
      "text/plain": [
       "0      1\n",
       "1      1\n",
       "2      1\n",
       "3      1\n",
       "4      1\n",
       "      ..\n",
       "298    0\n",
       "299    0\n",
       "300    0\n",
       "301    0\n",
       "302    0\n",
       "Name: target, Length: 303, dtype: int64"
      ]
     },
     "execution_count": 17,
     "metadata": {},
     "output_type": "execute_result"
    }
   ],
   "source": [
    "y"
   ]
  },
  {
   "cell_type": "code",
   "execution_count": 18,
   "id": "c96465e8",
   "metadata": {
    "execution": {
     "iopub.execute_input": "2024-04-01T06:55:45.139425Z",
     "iopub.status.busy": "2024-04-01T06:55:45.138447Z",
     "iopub.status.idle": "2024-04-01T06:55:45.145923Z",
     "shell.execute_reply": "2024-04-01T06:55:45.144363Z"
    },
    "id": "m1FleWZb6I9T",
    "papermill": {
     "duration": 0.048481,
     "end_time": "2024-04-01T06:55:45.148610",
     "exception": false,
     "start_time": "2024-04-01T06:55:45.100129",
     "status": "completed"
    },
    "tags": []
   },
   "outputs": [],
   "source": [
    "np.random.seed(42)"
   ]
  },
  {
   "cell_type": "code",
   "execution_count": 19,
   "id": "5bcd04ec",
   "metadata": {
    "execution": {
     "iopub.execute_input": "2024-04-01T06:55:45.224937Z",
     "iopub.status.busy": "2024-04-01T06:55:45.224434Z",
     "iopub.status.idle": "2024-04-01T06:55:45.234700Z",
     "shell.execute_reply": "2024-04-01T06:55:45.233269Z"
    },
    "id": "83_9KdDBaXQq",
    "papermill": {
     "duration": 0.051877,
     "end_time": "2024-04-01T06:55:45.237338",
     "exception": false,
     "start_time": "2024-04-01T06:55:45.185461",
     "status": "completed"
    },
    "tags": []
   },
   "outputs": [],
   "source": [
    "X_train, X_test, y_train, y_test = train_test_split(X,y,test_size=0.2)"
   ]
  },
  {
   "cell_type": "code",
   "execution_count": 20,
   "id": "8b650f5a",
   "metadata": {
    "execution": {
     "iopub.execute_input": "2024-04-01T06:55:45.313525Z",
     "iopub.status.busy": "2024-04-01T06:55:45.312682Z",
     "iopub.status.idle": "2024-04-01T06:55:45.333027Z",
     "shell.execute_reply": "2024-04-01T06:55:45.331805Z"
    },
    "id": "MVSN8qclbaOG",
    "outputId": "7c6c20f7-25ca-4b56-ecb3-21152f6303c7",
    "papermill": {
     "duration": 0.061613,
     "end_time": "2024-04-01T06:55:45.335692",
     "exception": false,
     "start_time": "2024-04-01T06:55:45.274079",
     "status": "completed"
    },
    "tags": []
   },
   "outputs": [
    {
     "data": {
      "text/html": [
       "<div>\n",
       "<style scoped>\n",
       "    .dataframe tbody tr th:only-of-type {\n",
       "        vertical-align: middle;\n",
       "    }\n",
       "\n",
       "    .dataframe tbody tr th {\n",
       "        vertical-align: top;\n",
       "    }\n",
       "\n",
       "    .dataframe thead th {\n",
       "        text-align: right;\n",
       "    }\n",
       "</style>\n",
       "<table border=\"1\" class=\"dataframe\">\n",
       "  <thead>\n",
       "    <tr style=\"text-align: right;\">\n",
       "      <th></th>\n",
       "      <th>age</th>\n",
       "      <th>sex</th>\n",
       "      <th>cp</th>\n",
       "      <th>trestbps</th>\n",
       "      <th>chol</th>\n",
       "      <th>fbs</th>\n",
       "      <th>restecg</th>\n",
       "      <th>thalach</th>\n",
       "      <th>exang</th>\n",
       "      <th>oldpeak</th>\n",
       "      <th>slope</th>\n",
       "      <th>ca</th>\n",
       "      <th>thal</th>\n",
       "    </tr>\n",
       "  </thead>\n",
       "  <tbody>\n",
       "    <tr>\n",
       "      <th>132</th>\n",
       "      <td>42</td>\n",
       "      <td>1</td>\n",
       "      <td>1</td>\n",
       "      <td>120</td>\n",
       "      <td>295</td>\n",
       "      <td>0</td>\n",
       "      <td>1</td>\n",
       "      <td>162</td>\n",
       "      <td>0</td>\n",
       "      <td>0.0</td>\n",
       "      <td>2</td>\n",
       "      <td>0</td>\n",
       "      <td>2</td>\n",
       "    </tr>\n",
       "    <tr>\n",
       "      <th>202</th>\n",
       "      <td>58</td>\n",
       "      <td>1</td>\n",
       "      <td>0</td>\n",
       "      <td>150</td>\n",
       "      <td>270</td>\n",
       "      <td>0</td>\n",
       "      <td>0</td>\n",
       "      <td>111</td>\n",
       "      <td>1</td>\n",
       "      <td>0.8</td>\n",
       "      <td>2</td>\n",
       "      <td>0</td>\n",
       "      <td>3</td>\n",
       "    </tr>\n",
       "    <tr>\n",
       "      <th>196</th>\n",
       "      <td>46</td>\n",
       "      <td>1</td>\n",
       "      <td>2</td>\n",
       "      <td>150</td>\n",
       "      <td>231</td>\n",
       "      <td>0</td>\n",
       "      <td>1</td>\n",
       "      <td>147</td>\n",
       "      <td>0</td>\n",
       "      <td>3.6</td>\n",
       "      <td>1</td>\n",
       "      <td>0</td>\n",
       "      <td>2</td>\n",
       "    </tr>\n",
       "    <tr>\n",
       "      <th>75</th>\n",
       "      <td>55</td>\n",
       "      <td>0</td>\n",
       "      <td>1</td>\n",
       "      <td>135</td>\n",
       "      <td>250</td>\n",
       "      <td>0</td>\n",
       "      <td>0</td>\n",
       "      <td>161</td>\n",
       "      <td>0</td>\n",
       "      <td>1.4</td>\n",
       "      <td>1</td>\n",
       "      <td>0</td>\n",
       "      <td>2</td>\n",
       "    </tr>\n",
       "    <tr>\n",
       "      <th>176</th>\n",
       "      <td>60</td>\n",
       "      <td>1</td>\n",
       "      <td>0</td>\n",
       "      <td>117</td>\n",
       "      <td>230</td>\n",
       "      <td>1</td>\n",
       "      <td>1</td>\n",
       "      <td>160</td>\n",
       "      <td>1</td>\n",
       "      <td>1.4</td>\n",
       "      <td>2</td>\n",
       "      <td>2</td>\n",
       "      <td>3</td>\n",
       "    </tr>\n",
       "    <tr>\n",
       "      <th>...</th>\n",
       "      <td>...</td>\n",
       "      <td>...</td>\n",
       "      <td>...</td>\n",
       "      <td>...</td>\n",
       "      <td>...</td>\n",
       "      <td>...</td>\n",
       "      <td>...</td>\n",
       "      <td>...</td>\n",
       "      <td>...</td>\n",
       "      <td>...</td>\n",
       "      <td>...</td>\n",
       "      <td>...</td>\n",
       "      <td>...</td>\n",
       "    </tr>\n",
       "    <tr>\n",
       "      <th>188</th>\n",
       "      <td>50</td>\n",
       "      <td>1</td>\n",
       "      <td>2</td>\n",
       "      <td>140</td>\n",
       "      <td>233</td>\n",
       "      <td>0</td>\n",
       "      <td>1</td>\n",
       "      <td>163</td>\n",
       "      <td>0</td>\n",
       "      <td>0.6</td>\n",
       "      <td>1</td>\n",
       "      <td>1</td>\n",
       "      <td>3</td>\n",
       "    </tr>\n",
       "    <tr>\n",
       "      <th>71</th>\n",
       "      <td>51</td>\n",
       "      <td>1</td>\n",
       "      <td>2</td>\n",
       "      <td>94</td>\n",
       "      <td>227</td>\n",
       "      <td>0</td>\n",
       "      <td>1</td>\n",
       "      <td>154</td>\n",
       "      <td>1</td>\n",
       "      <td>0.0</td>\n",
       "      <td>2</td>\n",
       "      <td>1</td>\n",
       "      <td>3</td>\n",
       "    </tr>\n",
       "    <tr>\n",
       "      <th>106</th>\n",
       "      <td>69</td>\n",
       "      <td>1</td>\n",
       "      <td>3</td>\n",
       "      <td>160</td>\n",
       "      <td>234</td>\n",
       "      <td>1</td>\n",
       "      <td>0</td>\n",
       "      <td>131</td>\n",
       "      <td>0</td>\n",
       "      <td>0.1</td>\n",
       "      <td>1</td>\n",
       "      <td>1</td>\n",
       "      <td>2</td>\n",
       "    </tr>\n",
       "    <tr>\n",
       "      <th>270</th>\n",
       "      <td>46</td>\n",
       "      <td>1</td>\n",
       "      <td>0</td>\n",
       "      <td>120</td>\n",
       "      <td>249</td>\n",
       "      <td>0</td>\n",
       "      <td>0</td>\n",
       "      <td>144</td>\n",
       "      <td>0</td>\n",
       "      <td>0.8</td>\n",
       "      <td>2</td>\n",
       "      <td>0</td>\n",
       "      <td>3</td>\n",
       "    </tr>\n",
       "    <tr>\n",
       "      <th>102</th>\n",
       "      <td>63</td>\n",
       "      <td>0</td>\n",
       "      <td>1</td>\n",
       "      <td>140</td>\n",
       "      <td>195</td>\n",
       "      <td>0</td>\n",
       "      <td>1</td>\n",
       "      <td>179</td>\n",
       "      <td>0</td>\n",
       "      <td>0.0</td>\n",
       "      <td>2</td>\n",
       "      <td>2</td>\n",
       "      <td>2</td>\n",
       "    </tr>\n",
       "  </tbody>\n",
       "</table>\n",
       "<p>242 rows × 13 columns</p>\n",
       "</div>"
      ],
      "text/plain": [
       "     age  sex  cp  trestbps  chol  fbs  restecg  thalach  exang  oldpeak  \\\n",
       "132   42    1   1       120   295    0        1      162      0      0.0   \n",
       "202   58    1   0       150   270    0        0      111      1      0.8   \n",
       "196   46    1   2       150   231    0        1      147      0      3.6   \n",
       "75    55    0   1       135   250    0        0      161      0      1.4   \n",
       "176   60    1   0       117   230    1        1      160      1      1.4   \n",
       "..   ...  ...  ..       ...   ...  ...      ...      ...    ...      ...   \n",
       "188   50    1   2       140   233    0        1      163      0      0.6   \n",
       "71    51    1   2        94   227    0        1      154      1      0.0   \n",
       "106   69    1   3       160   234    1        0      131      0      0.1   \n",
       "270   46    1   0       120   249    0        0      144      0      0.8   \n",
       "102   63    0   1       140   195    0        1      179      0      0.0   \n",
       "\n",
       "     slope  ca  thal  \n",
       "132      2   0     2  \n",
       "202      2   0     3  \n",
       "196      1   0     2  \n",
       "75       1   0     2  \n",
       "176      2   2     3  \n",
       "..     ...  ..   ...  \n",
       "188      1   1     3  \n",
       "71       2   1     3  \n",
       "106      1   1     2  \n",
       "270      2   0     3  \n",
       "102      2   2     2  \n",
       "\n",
       "[242 rows x 13 columns]"
      ]
     },
     "execution_count": 20,
     "metadata": {},
     "output_type": "execute_result"
    }
   ],
   "source": [
    "X_train"
   ]
  },
  {
   "cell_type": "markdown",
   "id": "9c9105dc",
   "metadata": {
    "id": "hw4KQ7n5vlQN",
    "papermill": {
     "duration": 0.036575,
     "end_time": "2024-04-01T06:55:45.409499",
     "exception": false,
     "start_time": "2024-04-01T06:55:45.372924",
     "status": "completed"
    },
    "tags": []
   },
   "source": [
    "As we know this problem is of classification type. Hence we will use these three models:\n",
    "- Logistic Regression\n",
    "- K-Nearest Neighours Classifier\n",
    "- Random Forest Classifier"
   ]
  },
  {
   "cell_type": "code",
   "execution_count": 21,
   "id": "55611673",
   "metadata": {
    "execution": {
     "iopub.execute_input": "2024-04-01T06:55:45.486604Z",
     "iopub.status.busy": "2024-04-01T06:55:45.485956Z",
     "iopub.status.idle": "2024-04-01T06:55:45.492662Z",
     "shell.execute_reply": "2024-04-01T06:55:45.491784Z"
    },
    "id": "Tal0dDXxwcNs",
    "papermill": {
     "duration": 0.049207,
     "end_time": "2024-04-01T06:55:45.495483",
     "exception": false,
     "start_time": "2024-04-01T06:55:45.446276",
     "status": "completed"
    },
    "tags": []
   },
   "outputs": [],
   "source": [
    "def fit_and_score(models, X_train, X_test, y_train, y_test):\n",
    "  \"\"\"\n",
    "    Fit and train models simultaneously\n",
    "  \"\"\"\n",
    "  models_score = {}\n",
    "\n",
    "  for key, values in models.items():\n",
    "    model = values\n",
    "    model.fit(X_train, y_train)\n",
    "    models_score[key] = model.score(X_test, y_test)\n",
    "\n",
    "  return models_score"
   ]
  },
  {
   "cell_type": "code",
   "execution_count": 22,
   "id": "d01278f4",
   "metadata": {
    "execution": {
     "iopub.execute_input": "2024-04-01T06:55:45.574242Z",
     "iopub.status.busy": "2024-04-01T06:55:45.573499Z",
     "iopub.status.idle": "2024-04-01T06:55:45.984658Z",
     "shell.execute_reply": "2024-04-01T06:55:45.983281Z"
    },
    "id": "cfjusy1LyQTX",
    "outputId": "f5455583-d27b-469a-95cd-21b42b86fbdb",
    "papermill": {
     "duration": 0.455403,
     "end_time": "2024-04-01T06:55:45.988576",
     "exception": false,
     "start_time": "2024-04-01T06:55:45.533173",
     "status": "completed"
    },
    "tags": []
   },
   "outputs": [
    {
     "data": {
      "text/plain": [
       "{'LogisticRegression': 0.8852459016393442,\n",
       " 'KNN': 0.6885245901639344,\n",
       " 'RandomForestClassifier': 0.8524590163934426}"
      ]
     },
     "execution_count": 22,
     "metadata": {},
     "output_type": "execute_result"
    }
   ],
   "source": [
    "models = {\n",
    "    \"LogisticRegression\": LogisticRegression(max_iter=1000),\n",
    "    \"KNN\": KNeighborsClassifier(),\n",
    "    \"RandomForestClassifier\": RandomForestClassifier()\n",
    "}\n",
    "\n",
    "models_score = fit_and_score(models, X_train, X_test, y_train, y_test)\n",
    "models_score"
   ]
  },
  {
   "cell_type": "markdown",
   "id": "d44d915c",
   "metadata": {
    "id": "zbKYCi6t2rS7",
    "papermill": {
     "duration": 0.036247,
     "end_time": "2024-04-01T06:55:46.064647",
     "exception": false,
     "start_time": "2024-04-01T06:55:46.028400",
     "status": "completed"
    },
    "tags": []
   },
   "source": [
    "### Model Comparision"
   ]
  },
  {
   "cell_type": "code",
   "execution_count": 23,
   "id": "7776305a",
   "metadata": {
    "execution": {
     "iopub.execute_input": "2024-04-01T06:55:46.140953Z",
     "iopub.status.busy": "2024-04-01T06:55:46.140196Z",
     "iopub.status.idle": "2024-04-01T06:55:46.428823Z",
     "shell.execute_reply": "2024-04-01T06:55:46.427248Z"
    },
    "id": "jfFHs_v82v0a",
    "outputId": "f931ebb0-a04e-4a10-8e1d-6d859d6b7b8c",
    "papermill": {
     "duration": 0.330462,
     "end_time": "2024-04-01T06:55:46.432102",
     "exception": false,
     "start_time": "2024-04-01T06:55:46.101640",
     "status": "completed"
    },
    "tags": []
   },
   "outputs": [
    {
     "data": {
      "text/plain": [
       "<Axes: >"
      ]
     },
     "execution_count": 23,
     "metadata": {},
     "output_type": "execute_result"
    },
    {
     "data": {
      "image/png": "[encoded data removed]",
      "text/plain": [
       "<Figure size 640x480 with 1 Axes>"
      ]
     },
     "metadata": {},
     "output_type": "display_data"
    }
   ],
   "source": [
    "model_compare = pd.DataFrame(models_score, index=[\"Accuracy\"])\n",
    "model_compare.T.plot(kind='bar')"
   ]
  },
  {
   "cell_type": "markdown",
   "id": "01a7e4a4",
   "metadata": {
    "id": "w-x5QeKQ308z",
    "papermill": {
     "duration": 0.038757,
     "end_time": "2024-04-01T06:55:46.509845",
     "exception": false,
     "start_time": "2024-04-01T06:55:46.471088",
     "status": "completed"
    },
    "tags": []
   },
   "source": [
    "#### **Inference : Here we can see that LogisticRegression and RandomForestClassifier are doing well as compared to KNN.**\n",
    "\n",
    "Hence, we will move forward with LogisticRegression and RandomForestClassifier models.\n",
    "First create a function to store the different score metrics for different model for future use."
   ]
  },
  {
   "cell_type": "code",
   "execution_count": 24,
   "id": "f6570662",
   "metadata": {
    "execution": {
     "iopub.execute_input": "2024-04-01T06:55:46.591270Z",
     "iopub.status.busy": "2024-04-01T06:55:46.590824Z",
     "iopub.status.idle": "2024-04-01T06:55:46.599700Z",
     "shell.execute_reply": "2024-04-01T06:55:46.598187Z"
    },
    "id": "d8GIAoqPHIk_",
    "papermill": {
     "duration": 0.054147,
     "end_time": "2024-04-01T06:55:46.603350",
     "exception": false,
     "start_time": "2024-04-01T06:55:46.549203",
     "status": "completed"
    },
    "tags": []
   },
   "outputs": [],
   "source": [
    "def pred_metrics(model, X_test, y_true):\n",
    "\n",
    "  # accuracy = cross_val_score(model, X, y,  scoring='accuracy').mean()\n",
    "  # precision = cross_val_score(model, X, y, scoring='precision').mean()\n",
    "  # recall = cross_val_score(model, X, y, scoring='recall').mean()\n",
    "  # f1 = cross_val_score(model, X, y, scoring='f1').mean()\n",
    "  y_preds = model.predict(X_test)\n",
    "  accuracy = accuracy_score(y_true, y_preds)\n",
    "  precision = precision_score(y_true, y_preds)\n",
    "  recall = recall_score(y_true, y_preds)\n",
    "  f1 = f1_score(y_true, y_preds)\n",
    "\n",
    "  metric_dict = {\n",
    "      \"Accuracy\": round(accuracy,8),\n",
    "      \"Precision\": round(precision,8),\n",
    "      \"Recall\": round(recall,8),\n",
    "      \"F1\": round(f1,8),\n",
    "  }\n",
    "\n",
    "  return metric_dict"
   ]
  },
  {
   "cell_type": "markdown",
   "id": "2902c101",
   "metadata": {
    "id": "QqtkuwAVLYOk",
    "papermill": {
     "duration": 0.038936,
     "end_time": "2024-04-01T06:55:46.682160",
     "exception": false,
     "start_time": "2024-04-01T06:55:46.643224",
     "status": "completed"
    },
    "tags": []
   },
   "source": [
    "Base Logisitc Regression performance"
   ]
  },
  {
   "cell_type": "code",
   "execution_count": 25,
   "id": "99fb8790",
   "metadata": {
    "execution": {
     "iopub.execute_input": "2024-04-01T06:55:46.763866Z",
     "iopub.status.busy": "2024-04-01T06:55:46.763077Z",
     "iopub.status.idle": "2024-04-01T06:55:46.783194Z",
     "shell.execute_reply": "2024-04-01T06:55:46.781906Z"
    },
    "id": "llANRp7qK78X",
    "outputId": "d7d115db-e8c3-417c-9eec-1534ec1b9aae",
    "papermill": {
     "duration": 0.064047,
     "end_time": "2024-04-01T06:55:46.785682",
     "exception": false,
     "start_time": "2024-04-01T06:55:46.721635",
     "status": "completed"
    },
    "tags": []
   },
   "outputs": [
    {
     "data": {
      "text/plain": [
       "{'Accuracy': 0.8852459,\n",
       " 'Precision': 0.87878788,\n",
       " 'Recall': 0.90625,\n",
       " 'F1': 0.89230769}"
      ]
     },
     "execution_count": 25,
     "metadata": {},
     "output_type": "execute_result"
    }
   ],
   "source": [
    "lr_base_model_metrics = pred_metrics(models['LogisticRegression'], X_test, y_test)\n",
    "lr_base_model_metrics"
   ]
  },
  {
   "cell_type": "markdown",
   "id": "946a0949",
   "metadata": {
    "id": "xaYAJl8hMgeH",
    "papermill": {
     "duration": 0.038481,
     "end_time": "2024-04-01T06:55:46.862800",
     "exception": false,
     "start_time": "2024-04-01T06:55:46.824319",
     "status": "completed"
    },
    "tags": []
   },
   "source": [
    "Base Random Forest Classifier performance"
   ]
  },
  {
   "cell_type": "code",
   "execution_count": 26,
   "id": "fabebbb9",
   "metadata": {
    "execution": {
     "iopub.execute_input": "2024-04-01T06:55:46.944665Z",
     "iopub.status.busy": "2024-04-01T06:55:46.944225Z",
     "iopub.status.idle": "2024-04-01T06:55:46.969677Z",
     "shell.execute_reply": "2024-04-01T06:55:46.968374Z"
    },
    "id": "G8QVNNv8TgMS",
    "outputId": "6d73f6bb-1e86-4dbf-a777-24ca677e63aa",
    "papermill": {
     "duration": 0.070541,
     "end_time": "2024-04-01T06:55:46.972627",
     "exception": false,
     "start_time": "2024-04-01T06:55:46.902086",
     "status": "completed"
    },
    "tags": []
   },
   "outputs": [
    {
     "data": {
      "text/plain": [
       "{'Accuracy': 0.85245902,\n",
       " 'Precision': 0.84848485,\n",
       " 'Recall': 0.875,\n",
       " 'F1': 0.86153846}"
      ]
     },
     "execution_count": 26,
     "metadata": {},
     "output_type": "execute_result"
    }
   ],
   "source": [
    "rfc_base_model_metrics = pred_metrics(models['RandomForestClassifier'], X_test, y_test)\n",
    "rfc_base_model_metrics"
   ]
  },
  {
   "cell_type": "markdown",
   "id": "7fc78fb0",
   "metadata": {
    "id": "zA9wVIOJUUHj",
    "papermill": {
     "duration": 0.041175,
     "end_time": "2024-04-01T06:55:47.055788",
     "exception": false,
     "start_time": "2024-04-01T06:55:47.014613",
     "status": "completed"
    },
    "tags": []
   },
   "source": [
    "## Hyperparameter Tuning"
   ]
  },
  {
   "cell_type": "markdown",
   "id": "cad50465",
   "metadata": {
    "id": "iq4NeB_vH22v",
    "papermill": {
     "duration": 0.0425,
     "end_time": "2024-04-01T06:55:47.141266",
     "exception": false,
     "start_time": "2024-04-01T06:55:47.098766",
     "status": "completed"
    },
    "tags": []
   },
   "source": [
    "### Hyperparamter Tuning using RandomizedSearchCV"
   ]
  },
  {
   "cell_type": "code",
   "execution_count": 27,
   "id": "01d09502",
   "metadata": {
    "execution": {
     "iopub.execute_input": "2024-04-01T06:55:47.223830Z",
     "iopub.status.busy": "2024-04-01T06:55:47.222951Z",
     "iopub.status.idle": "2024-04-01T06:55:47.230586Z",
     "shell.execute_reply": "2024-04-01T06:55:47.229637Z"
    },
    "id": "QqsqdToQVwhJ",
    "papermill": {
     "duration": 0.052001,
     "end_time": "2024-04-01T06:55:47.233413",
     "exception": false,
     "start_time": "2024-04-01T06:55:47.181412",
     "status": "completed"
    },
    "tags": []
   },
   "outputs": [],
   "source": [
    "# Hyperparameter grid for LogisiticRegression\n",
    "lr_rs_grid = {\n",
    "    \"solver\" : [\"liblinear\", 'lbfgs', 'newton-cg'],\n",
    "    \"C\" : np.logspace(-4, 4, num=20, base=10),\n",
    "    \"max_iter\" : [1000, 1500, 2000]\n",
    "}\n",
    "\n",
    "# Hyperparameter grid for RandomForestClassifier\n",
    "rfc_rs_grid = {\n",
    "    \"n_estimators\": np.arange(10, 1000, 50),\n",
    "    \"max_depth\": [None, 3, 5, 10],\n",
    "    \"min_samples_split\": np.arange(2, 20, 2),\n",
    "    \"min_samples_leaf\": np.arange(1, 20, 2)\n",
    "}"
   ]
  },
  {
   "cell_type": "markdown",
   "id": "3a93cf0b",
   "metadata": {
    "id": "b4biS0labE8L",
    "papermill": {
     "duration": 0.041503,
     "end_time": "2024-04-01T06:55:47.316766",
     "exception": false,
     "start_time": "2024-04-01T06:55:47.275263",
     "status": "completed"
    },
    "tags": []
   },
   "source": [
    "Logistic Regression"
   ]
  },
  {
   "cell_type": "code",
   "execution_count": 28,
   "id": "d2ea61ff",
   "metadata": {
    "execution": {
     "iopub.execute_input": "2024-04-01T06:55:47.398531Z",
     "iopub.status.busy": "2024-04-01T06:55:47.397684Z",
     "iopub.status.idle": "2024-04-01T06:55:51.768007Z",
     "shell.execute_reply": "2024-04-01T06:55:51.766137Z"
    },
    "id": "GEoYvgwFarRl",
    "outputId": "adb4e78c-460d-44ad-f3f9-6fc100b684dc",
    "papermill": {
     "duration": 4.414205,
     "end_time": "2024-04-01T06:55:51.770902",
     "exception": false,
     "start_time": "2024-04-01T06:55:47.356697",
     "status": "completed"
    },
    "tags": []
   },
   "outputs": [
    {
     "data": {
      "text/html": [
       "<style>#sk-container-id-1 {color: black;background-color: white;}#sk-container-id-1 pre{padding: 0;}#sk-container-id-1 div.sk-toggleable {background-color: white;}#sk-container-id-1 label.sk-toggleable__label {cursor: pointer;display: block;width: 100%;margin-bottom: 0;padding: 0.3em;box-sizing: border-box;text-align: center;}#sk-container-id-1 label.sk-toggleable__label-arrow:before {content: \"▸\";float: left;margin-right: 0.25em;color: #696969;}#sk-container-id-1 label.sk-toggleable__label-arrow:hover:before {color: black;}#sk-container-id-1 div.sk-estimator:hover label.sk-toggleable__label-arrow:before {color: black;}#sk-container-id-1 div.sk-toggleable__content {max-height: 0;max-width: 0;overflow: hidden;text-align: left;background-color: #f0f8ff;}#sk-container-id-1 div.sk-toggleable__content pre {margin: 0.2em;color: black;border-radius: 0.25em;background-color: #f0f8ff;}#sk-container-id-1 input.sk-toggleable__control:checked~div.sk-toggleable__content {max-height: 200px;max-width: 100%;overflow: auto;}#sk-container-id-1 input.sk-toggleable__control:checked~label.sk-toggleable__label-arrow:before {content: \"▾\";}#sk-container-id-1 div.sk-estimator input.sk-toggleable__control:checked~label.sk-toggleable__label {background-color: #d4ebff;}#sk-container-id-1 div.sk-label input.sk-toggleable__control:checked~label.sk-toggleable__label {background-color: #d4ebff;}#sk-container-id-1 input.sk-hidden--visually {border: 0;clip: rect(1px 1px 1px 1px);clip: rect(1px, 1px, 1px, 1px);height: 1px;margin: -1px;overflow: hidden;padding: 0;position: absolute;width: 1px;}#sk-container-id-1 div.sk-estimator {font-family: monospace;background-color: #f0f8ff;border: 1px dotted black;border-radius: 0.25em;box-sizing: border-box;margin-bottom: 0.5em;}#sk-container-id-1 div.sk-estimator:hover {background-color: #d4ebff;}#sk-container-id-1 div.sk-parallel-item::after {content: \"\";width: 100%;border-bottom: 1px solid gray;flex-grow: 1;}#sk-container-id-1 div.sk-label:hover label.sk-toggleable__label {background-color: #d4ebff;}#sk-container-id-1 div.sk-serial::before {content: \"\";position: absolute;border-left: 1px solid gray;box-sizing: border-box;top: 0;bottom: 0;left: 50%;z-index: 0;}#sk-container-id-1 div.sk-serial {display: flex;flex-direction: column;align-items: center;background-color: white;padding-right: 0.2em;padding-left: 0.2em;position: relative;}#sk-container-id-1 div.sk-item {position: relative;z-index: 1;}#sk-container-id-1 div.sk-parallel {display: flex;align-items: stretch;justify-content: center;background-color: white;position: relative;}#sk-container-id-1 div.sk-item::before, #sk-container-id-1 div.sk-parallel-item::before {content: \"\";position: absolute;border-left: 1px solid gray;box-sizing: border-box;top: 0;bottom: 0;left: 50%;z-index: -1;}#sk-container-id-1 div.sk-parallel-item {display: flex;flex-direction: column;z-index: 1;position: relative;background-color: white;}#sk-container-id-1 div.sk-parallel-item:first-child::after {align-self: flex-end;width: 50%;}#sk-container-id-1 div.sk-parallel-item:last-child::after {align-self: flex-start;width: 50%;}#sk-container-id-1 div.sk-parallel-item:only-child::after {width: 0;}#sk-container-id-1 div.sk-dashed-wrapped {border: 1px dashed gray;margin: 0 0.4em 0.5em 0.4em;box-sizing: border-box;padding-bottom: 0.4em;background-color: white;}#sk-container-id-1 div.sk-label label {font-family: monospace;font-weight: bold;display: inline-block;line-height: 1.2em;}#sk-container-id-1 div.sk-label-container {text-align: center;}#sk-container-id-1 div.sk-container {/* jupyter's `normalize.less` sets `[hidden] { display: none; }` but bootstrap.min.css set `[hidden] { display: none !important; }` so we also need the `!important` here to be able to override the default hidden behavior on the sphinx rendered scikit-learn.org. See: https://github.com/scikit-learn/scikit-learn/issues/21755 */display: inline-block !important;position: relative;}#sk-container-id-1 div.sk-text-repr-fallback {display: none;}</style><div id=\"sk-container-id-1\" class=\"sk-top-container\"><div class=\"sk-text-repr-fallback\"><pre>RandomizedSearchCV(cv=5, estimator=LogisticRegression(max_iter=1000), n_iter=20,\n",
       "                   param_distributions={&#x27;C&#x27;: array([1.00000000e-04, 2.63665090e-04, 6.95192796e-04, 1.83298071e-03,\n",
       "       4.83293024e-03, 1.27427499e-02, 3.35981829e-02, 8.85866790e-02,\n",
       "       2.33572147e-01, 6.15848211e-01, 1.62377674e+00, 4.28133240e+00,\n",
       "       1.12883789e+01, 2.97635144e+01, 7.84759970e+01, 2.06913808e+02,\n",
       "       5.45559478e+02, 1.43844989e+03, 3.79269019e+03, 1.00000000e+04]),\n",
       "                                        &#x27;max_iter&#x27;: [1000, 1500, 2000],\n",
       "                                        &#x27;solver&#x27;: [&#x27;liblinear&#x27;, &#x27;lbfgs&#x27;,\n",
       "                                                   &#x27;newton-cg&#x27;]})</pre><b>In a Jupyter environment, please rerun this cell to show the HTML representation or trust the notebook. <br />On GitHub, the HTML representation is unable to render, please try loading this page with nbviewer.org.</b></div><div class=\"sk-container\" hidden><div class=\"sk-item sk-dashed-wrapped\"><div class=\"sk-label-container\"><div class=\"sk-label sk-toggleable\"><input class=\"sk-toggleable__control sk-hidden--visually\" id=\"sk-estimator-id-1\" type=\"checkbox\" ><label for=\"sk-estimator-id-1\" class=\"sk-toggleable__label sk-toggleable__label-arrow\">RandomizedSearchCV</label><div class=\"sk-toggleable__content\"><pre>RandomizedSearchCV(cv=5, estimator=LogisticRegression(max_iter=1000), n_iter=20,\n",
       "                   param_distributions={&#x27;C&#x27;: array([1.00000000e-04, 2.63665090e-04, 6.95192796e-04, 1.83298071e-03,\n",
       "       4.83293024e-03, 1.27427499e-02, 3.35981829e-02, 8.85866790e-02,\n",
       "       2.33572147e-01, 6.15848211e-01, 1.62377674e+00, 4.28133240e+00,\n",
       "       1.12883789e+01, 2.97635144e+01, 7.84759970e+01, 2.06913808e+02,\n",
       "       5.45559478e+02, 1.43844989e+03, 3.79269019e+03, 1.00000000e+04]),\n",
       "                                        &#x27;max_iter&#x27;: [1000, 1500, 2000],\n",
       "                                        &#x27;solver&#x27;: [&#x27;liblinear&#x27;, &#x27;lbfgs&#x27;,\n",
       "                                                   &#x27;newton-cg&#x27;]})</pre></div></div></div><div class=\"sk-parallel\"><div class=\"sk-parallel-item\"><div class=\"sk-item\"><div class=\"sk-label-container\"><div class=\"sk-label sk-toggleable\"><input class=\"sk-toggleable__control sk-hidden--visually\" id=\"sk-estimator-id-2\" type=\"checkbox\" ><label for=\"sk-estimator-id-2\" class=\"sk-toggleable__label sk-toggleable__label-arrow\">estimator: LogisticRegression</label><div class=\"sk-toggleable__content\"><pre>LogisticRegression(max_iter=1000)</pre></div></div></div><div class=\"sk-serial\"><div class=\"sk-item\"><div class=\"sk-estimator sk-toggleable\"><input class=\"sk-toggleable__control sk-hidden--visually\" id=\"sk-estimator-id-3\" type=\"checkbox\" ><label for=\"sk-estimator-id-3\" class=\"sk-toggleable__label sk-toggleable__label-arrow\">LogisticRegression</label><div class=\"sk-toggleable__content\"><pre>LogisticRegression(max_iter=1000)</pre></div></div></div></div></div></div></div></div></div></div>"
      ],
      "text/plain": [
       "RandomizedSearchCV(cv=5, estimator=LogisticRegression(max_iter=1000), n_iter=20,\n",
       "                   param_distributions={'C': array([1.00000000e-04, 2.63665090e-04, 6.95192796e-04, 1.83298071e-03,\n",
       "       4.83293024e-03, 1.27427499e-02, 3.35981829e-02, 8.85866790e-02,\n",
       "       2.33572147e-01, 6.15848211e-01, 1.62377674e+00, 4.28133240e+00,\n",
       "       1.12883789e+01, 2.97635144e+01, 7.84759970e+01, 2.06913808e+02,\n",
       "       5.45559478e+02, 1.43844989e+03, 3.79269019e+03, 1.00000000e+04]),\n",
       "                                        'max_iter': [1000, 1500, 2000],\n",
       "                                        'solver': ['liblinear', 'lbfgs',\n",
       "                                                   'newton-cg']})"
      ]
     },
     "execution_count": 28,
     "metadata": {},
     "output_type": "execute_result"
    }
   ],
   "source": [
    "lr_rs_model = RandomizedSearchCV(models['LogisticRegression'], lr_rs_grid, cv=5, n_iter=20)\n",
    "lr_rs_model.fit(X_train, y_train)"
   ]
  },
  {
   "cell_type": "code",
   "execution_count": 29,
   "id": "8d2b7541",
   "metadata": {
    "execution": {
     "iopub.execute_input": "2024-04-01T06:55:51.852954Z",
     "iopub.status.busy": "2024-04-01T06:55:51.852524Z",
     "iopub.status.idle": "2024-04-01T06:55:51.860792Z",
     "shell.execute_reply": "2024-04-01T06:55:51.859817Z"
    },
    "id": "jeR38LBQchAw",
    "outputId": "fcd0e6bb-12a2-4628-d22e-784d1f43a06f",
    "papermill": {
     "duration": 0.052589,
     "end_time": "2024-04-01T06:55:51.863185",
     "exception": false,
     "start_time": "2024-04-01T06:55:51.810596",
     "status": "completed"
    },
    "tags": []
   },
   "outputs": [
    {
     "data": {
      "text/plain": [
       "{'solver': 'liblinear', 'max_iter': 2000, 'C': 0.23357214690901212}"
      ]
     },
     "execution_count": 29,
     "metadata": {},
     "output_type": "execute_result"
    }
   ],
   "source": [
    "lr_rs_model.best_params_"
   ]
  },
  {
   "cell_type": "code",
   "execution_count": 30,
   "id": "ce428380",
   "metadata": {
    "execution": {
     "iopub.execute_input": "2024-04-01T06:55:51.945094Z",
     "iopub.status.busy": "2024-04-01T06:55:51.944656Z",
     "iopub.status.idle": "2024-04-01T06:55:51.956249Z",
     "shell.execute_reply": "2024-04-01T06:55:51.954851Z"
    },
    "id": "hUSILjOYNdRn",
    "outputId": "c7a6f68e-a66c-4c05-f3dc-d7e641055a2c",
    "papermill": {
     "duration": 0.056107,
     "end_time": "2024-04-01T06:55:51.958854",
     "exception": false,
     "start_time": "2024-04-01T06:55:51.902747",
     "status": "completed"
    },
    "tags": []
   },
   "outputs": [
    {
     "data": {
      "text/plain": [
       "0.8852459016393442"
      ]
     },
     "execution_count": 30,
     "metadata": {},
     "output_type": "execute_result"
    }
   ],
   "source": [
    "lr_rs_model.score(X_test, y_test)"
   ]
  },
  {
   "cell_type": "code",
   "execution_count": 31,
   "id": "b0b82341",
   "metadata": {
    "execution": {
     "iopub.execute_input": "2024-04-01T06:55:52.065316Z",
     "iopub.status.busy": "2024-04-01T06:55:52.064033Z",
     "iopub.status.idle": "2024-04-01T06:55:52.074417Z",
     "shell.execute_reply": "2024-04-01T06:55:52.073301Z"
    },
    "id": "-yCBkf1EkkwJ",
    "outputId": "02fd6739-68ec-4847-9160-acd34601218a",
    "papermill": {
     "duration": 0.073529,
     "end_time": "2024-04-01T06:55:52.076861",
     "exception": false,
     "start_time": "2024-04-01T06:55:52.003332",
     "status": "completed"
    },
    "tags": []
   },
   "outputs": [
    {
     "data": {
      "text/html": [
       "<style>#sk-container-id-2 {color: black;background-color: white;}#sk-container-id-2 pre{padding: 0;}#sk-container-id-2 div.sk-toggleable {background-color: white;}#sk-container-id-2 label.sk-toggleable__label {cursor: pointer;display: block;width: 100%;margin-bottom: 0;padding: 0.3em;box-sizing: border-box;text-align: center;}#sk-container-id-2 label.sk-toggleable__label-arrow:before {content: \"▸\";float: left;margin-right: 0.25em;color: #696969;}#sk-container-id-2 label.sk-toggleable__label-arrow:hover:before {color: black;}#sk-container-id-2 div.sk-estimator:hover label.sk-toggleable__label-arrow:before {color: black;}#sk-container-id-2 div.sk-toggleable__content {max-height: 0;max-width: 0;overflow: hidden;text-align: left;background-color: #f0f8ff;}#sk-container-id-2 div.sk-toggleable__content pre {margin: 0.2em;color: black;border-radius: 0.25em;background-color: #f0f8ff;}#sk-container-id-2 input.sk-toggleable__control:checked~div.sk-toggleable__content {max-height: 200px;max-width: 100%;overflow: auto;}#sk-container-id-2 input.sk-toggleable__control:checked~label.sk-toggleable__label-arrow:before {content: \"▾\";}#sk-container-id-2 div.sk-estimator input.sk-toggleable__control:checked~label.sk-toggleable__label {background-color: #d4ebff;}#sk-container-id-2 div.sk-label input.sk-toggleable__control:checked~label.sk-toggleable__label {background-color: #d4ebff;}#sk-container-id-2 input.sk-hidden--visually {border: 0;clip: rect(1px 1px 1px 1px);clip: rect(1px, 1px, 1px, 1px);height: 1px;margin: -1px;overflow: hidden;padding: 0;position: absolute;width: 1px;}#sk-container-id-2 div.sk-estimator {font-family: monospace;background-color: #f0f8ff;border: 1px dotted black;border-radius: 0.25em;box-sizing: border-box;margin-bottom: 0.5em;}#sk-container-id-2 div.sk-estimator:hover {background-color: #d4ebff;}#sk-container-id-2 div.sk-parallel-item::after {content: \"\";width: 100%;border-bottom: 1px solid gray;flex-grow: 1;}#sk-container-id-2 div.sk-label:hover label.sk-toggleable__label {background-color: #d4ebff;}#sk-container-id-2 div.sk-serial::before {content: \"\";position: absolute;border-left: 1px solid gray;box-sizing: border-box;top: 0;bottom: 0;left: 50%;z-index: 0;}#sk-container-id-2 div.sk-serial {display: flex;flex-direction: column;align-items: center;background-color: white;padding-right: 0.2em;padding-left: 0.2em;position: relative;}#sk-container-id-2 div.sk-item {position: relative;z-index: 1;}#sk-container-id-2 div.sk-parallel {display: flex;align-items: stretch;justify-content: center;background-color: white;position: relative;}#sk-container-id-2 div.sk-item::before, #sk-container-id-2 div.sk-parallel-item::before {content: \"\";position: absolute;border-left: 1px solid gray;box-sizing: border-box;top: 0;bottom: 0;left: 50%;z-index: -1;}#sk-container-id-2 div.sk-parallel-item {display: flex;flex-direction: column;z-index: 1;position: relative;background-color: white;}#sk-container-id-2 div.sk-parallel-item:first-child::after {align-self: flex-end;width: 50%;}#sk-container-id-2 div.sk-parallel-item:last-child::after {align-self: flex-start;width: 50%;}#sk-container-id-2 div.sk-parallel-item:only-child::after {width: 0;}#sk-container-id-2 div.sk-dashed-wrapped {border: 1px dashed gray;margin: 0 0.4em 0.5em 0.4em;box-sizing: border-box;padding-bottom: 0.4em;background-color: white;}#sk-container-id-2 div.sk-label label {font-family: monospace;font-weight: bold;display: inline-block;line-height: 1.2em;}#sk-container-id-2 div.sk-label-container {text-align: center;}#sk-container-id-2 div.sk-container {/* jupyter's `normalize.less` sets `[hidden] { display: none; }` but bootstrap.min.css set `[hidden] { display: none !important; }` so we also need the `!important` here to be able to override the default hidden behavior on the sphinx rendered scikit-learn.org. See: https://github.com/scikit-learn/scikit-learn/issues/21755 */display: inline-block !important;position: relative;}#sk-container-id-2 div.sk-text-repr-fallback {display: none;}</style><div id=\"sk-container-id-2\" class=\"sk-top-container\"><div class=\"sk-text-repr-fallback\"><pre>LogisticRegression(C=0.23357214690901212, max_iter=2000, solver=&#x27;liblinear&#x27;)</pre><b>In a Jupyter environment, please rerun this cell to show the HTML representation or trust the notebook. <br />On GitHub, the HTML representation is unable to render, please try loading this page with nbviewer.org.</b></div><div class=\"sk-container\" hidden><div class=\"sk-item\"><div class=\"sk-estimator sk-toggleable\"><input class=\"sk-toggleable__control sk-hidden--visually\" id=\"sk-estimator-id-4\" type=\"checkbox\" checked><label for=\"sk-estimator-id-4\" class=\"sk-toggleable__label sk-toggleable__label-arrow\">LogisticRegression</label><div class=\"sk-toggleable__content\"><pre>LogisticRegression(C=0.23357214690901212, max_iter=2000, solver=&#x27;liblinear&#x27;)</pre></div></div></div></div></div>"
      ],
      "text/plain": [
       "LogisticRegression(C=0.23357214690901212, max_iter=2000, solver='liblinear')"
      ]
     },
     "execution_count": 31,
     "metadata": {},
     "output_type": "execute_result"
    }
   ],
   "source": [
    "lr_rs_model.best_estimator_"
   ]
  },
  {
   "cell_type": "code",
   "execution_count": 32,
   "id": "fe40d0fe",
   "metadata": {
    "execution": {
     "iopub.execute_input": "2024-04-01T06:55:52.165652Z",
     "iopub.status.busy": "2024-04-01T06:55:52.165001Z",
     "iopub.status.idle": "2024-04-01T06:55:52.184023Z",
     "shell.execute_reply": "2024-04-01T06:55:52.183044Z"
    },
    "id": "zAMNX0gFc8gg",
    "outputId": "bc06dbcf-59dd-43bd-9444-48853276205b",
    "papermill": {
     "duration": 0.069609,
     "end_time": "2024-04-01T06:55:52.187001",
     "exception": false,
     "start_time": "2024-04-01T06:55:52.117392",
     "status": "completed"
    },
    "tags": []
   },
   "outputs": [
    {
     "data": {
      "text/plain": [
       "{'Accuracy': 0.8852459,\n",
       " 'Precision': 0.87878788,\n",
       " 'Recall': 0.90625,\n",
       " 'F1': 0.89230769}"
      ]
     },
     "execution_count": 32,
     "metadata": {},
     "output_type": "execute_result"
    }
   ],
   "source": [
    "lr_rs_model_metrics = pred_metrics(lr_rs_model.best_estimator_, X_test, y_test)\n",
    "lr_rs_model_metrics"
   ]
  },
  {
   "cell_type": "markdown",
   "id": "6086f6b7",
   "metadata": {
    "id": "2JFXtuP6lSSa",
    "papermill": {
     "duration": 0.040622,
     "end_time": "2024-04-01T06:55:52.280350",
     "exception": false,
     "start_time": "2024-04-01T06:55:52.239728",
     "status": "completed"
    },
    "tags": []
   },
   "source": [
    "Random Forest Classifier"
   ]
  },
  {
   "cell_type": "code",
   "execution_count": 33,
   "id": "9b43052c",
   "metadata": {
    "execution": {
     "iopub.execute_input": "2024-04-01T06:55:52.370964Z",
     "iopub.status.busy": "2024-04-01T06:55:52.369756Z",
     "iopub.status.idle": "2024-04-01T06:57:33.506829Z",
     "shell.execute_reply": "2024-04-01T06:57:33.505299Z"
    },
    "id": "2vrqVHf_lYSf",
    "outputId": "0d4e476a-0220-4761-ded9-9a01a08d08f8",
    "papermill": {
     "duration": 101.227562,
     "end_time": "2024-04-01T06:57:33.550578",
     "exception": false,
     "start_time": "2024-04-01T06:55:52.323016",
     "status": "completed"
    },
    "tags": []
   },
   "outputs": [
    {
     "data": {
      "text/html": [
       "<style>#sk-container-id-3 {color: black;background-color: white;}#sk-container-id-3 pre{padding: 0;}#sk-container-id-3 div.sk-toggleable {background-color: white;}#sk-container-id-3 label.sk-toggleable__label {cursor: pointer;display: block;width: 100%;margin-bottom: 0;padding: 0.3em;box-sizing: border-box;text-align: center;}#sk-container-id-3 label.sk-toggleable__label-arrow:before {content: \"▸\";float: left;margin-right: 0.25em;color: #696969;}#sk-container-id-3 label.sk-toggleable__label-arrow:hover:before {color: black;}#sk-container-id-3 div.sk-estimator:hover label.sk-toggleable__label-arrow:before {color: black;}#sk-container-id-3 div.sk-toggleable__content {max-height: 0;max-width: 0;overflow: hidden;text-align: left;background-color: #f0f8ff;}#sk-container-id-3 div.sk-toggleable__content pre {margin: 0.2em;color: black;border-radius: 0.25em;background-color: #f0f8ff;}#sk-container-id-3 input.sk-toggleable__control:checked~div.sk-toggleable__content {max-height: 200px;max-width: 100%;overflow: auto;}#sk-container-id-3 input.sk-toggleable__control:checked~label.sk-toggleable__label-arrow:before {content: \"▾\";}#sk-container-id-3 div.sk-estimator input.sk-toggleable__control:checked~label.sk-toggleable__label {background-color: #d4ebff;}#sk-container-id-3 div.sk-label input.sk-toggleable__control:checked~label.sk-toggleable__label {background-color: #d4ebff;}#sk-container-id-3 input.sk-hidden--visually {border: 0;clip: rect(1px 1px 1px 1px);clip: rect(1px, 1px, 1px, 1px);height: 1px;margin: -1px;overflow: hidden;padding: 0;position: absolute;width: 1px;}#sk-container-id-3 div.sk-estimator {font-family: monospace;background-color: #f0f8ff;border: 1px dotted black;border-radius: 0.25em;box-sizing: border-box;margin-bottom: 0.5em;}#sk-container-id-3 div.sk-estimator:hover {background-color: #d4ebff;}#sk-container-id-3 div.sk-parallel-item::after {content: \"\";width: 100%;border-bottom: 1px solid gray;flex-grow: 1;}#sk-container-id-3 div.sk-label:hover label.sk-toggleable__label {background-color: #d4ebff;}#sk-container-id-3 div.sk-serial::before {content: \"\";position: absolute;border-left: 1px solid gray;box-sizing: border-box;top: 0;bottom: 0;left: 50%;z-index: 0;}#sk-container-id-3 div.sk-serial {display: flex;flex-direction: column;align-items: center;background-color: white;padding-right: 0.2em;padding-left: 0.2em;position: relative;}#sk-container-id-3 div.sk-item {position: relative;z-index: 1;}#sk-container-id-3 div.sk-parallel {display: flex;align-items: stretch;justify-content: center;background-color: white;position: relative;}#sk-container-id-3 div.sk-item::before, #sk-container-id-3 div.sk-parallel-item::before {content: \"\";position: absolute;border-left: 1px solid gray;box-sizing: border-box;top: 0;bottom: 0;left: 50%;z-index: -1;}#sk-container-id-3 div.sk-parallel-item {display: flex;flex-direction: column;z-index: 1;position: relative;background-color: white;}#sk-container-id-3 div.sk-parallel-item:first-child::after {align-self: flex-end;width: 50%;}#sk-container-id-3 div.sk-parallel-item:last-child::after {align-self: flex-start;width: 50%;}#sk-container-id-3 div.sk-parallel-item:only-child::after {width: 0;}#sk-container-id-3 div.sk-dashed-wrapped {border: 1px dashed gray;margin: 0 0.4em 0.5em 0.4em;box-sizing: border-box;padding-bottom: 0.4em;background-color: white;}#sk-container-id-3 div.sk-label label {font-family: monospace;font-weight: bold;display: inline-block;line-height: 1.2em;}#sk-container-id-3 div.sk-label-container {text-align: center;}#sk-container-id-3 div.sk-container {/* jupyter's `normalize.less` sets `[hidden] { display: none; }` but bootstrap.min.css set `[hidden] { display: none !important; }` so we also need the `!important` here to be able to override the default hidden behavior on the sphinx rendered scikit-learn.org. See: https://github.com/scikit-learn/scikit-learn/issues/21755 */display: inline-block !important;position: relative;}#sk-container-id-3 div.sk-text-repr-fallback {display: none;}</style><div id=\"sk-container-id-3\" class=\"sk-top-container\"><div class=\"sk-text-repr-fallback\"><pre>RandomizedSearchCV(cv=5, estimator=RandomForestClassifier(), n_iter=20,\n",
       "                   param_distributions={&#x27;max_depth&#x27;: [None, 3, 5, 10],\n",
       "                                        &#x27;min_samples_leaf&#x27;: array([ 1,  3,  5,  7,  9, 11, 13, 15, 17, 19]),\n",
       "                                        &#x27;min_samples_split&#x27;: array([ 2,  4,  6,  8, 10, 12, 14, 16, 18]),\n",
       "                                        &#x27;n_estimators&#x27;: array([ 10,  60, 110, 160, 210, 260, 310, 360, 410, 460, 510, 560, 610,\n",
       "       660, 710, 760, 810, 860, 910, 960])})</pre><b>In a Jupyter environment, please rerun this cell to show the HTML representation or trust the notebook. <br />On GitHub, the HTML representation is unable to render, please try loading this page with nbviewer.org.</b></div><div class=\"sk-container\" hidden><div class=\"sk-item sk-dashed-wrapped\"><div class=\"sk-label-container\"><div class=\"sk-label sk-toggleable\"><input class=\"sk-toggleable__control sk-hidden--visually\" id=\"sk-estimator-id-5\" type=\"checkbox\" ><label for=\"sk-estimator-id-5\" class=\"sk-toggleable__label sk-toggleable__label-arrow\">RandomizedSearchCV</label><div class=\"sk-toggleable__content\"><pre>RandomizedSearchCV(cv=5, estimator=RandomForestClassifier(), n_iter=20,\n",
       "                   param_distributions={&#x27;max_depth&#x27;: [None, 3, 5, 10],\n",
       "                                        &#x27;min_samples_leaf&#x27;: array([ 1,  3,  5,  7,  9, 11, 13, 15, 17, 19]),\n",
       "                                        &#x27;min_samples_split&#x27;: array([ 2,  4,  6,  8, 10, 12, 14, 16, 18]),\n",
       "                                        &#x27;n_estimators&#x27;: array([ 10,  60, 110, 160, 210, 260, 310, 360, 410, 460, 510, 560, 610,\n",
       "       660, 710, 760, 810, 860, 910, 960])})</pre></div></div></div><div class=\"sk-parallel\"><div class=\"sk-parallel-item\"><div class=\"sk-item\"><div class=\"sk-label-container\"><div class=\"sk-label sk-toggleable\"><input class=\"sk-toggleable__control sk-hidden--visually\" id=\"sk-estimator-id-6\" type=\"checkbox\" ><label for=\"sk-estimator-id-6\" class=\"sk-toggleable__label sk-toggleable__label-arrow\">estimator: RandomForestClassifier</label><div class=\"sk-toggleable__content\"><pre>RandomForestClassifier()</pre></div></div></div><div class=\"sk-serial\"><div class=\"sk-item\"><div class=\"sk-estimator sk-toggleable\"><input class=\"sk-toggleable__control sk-hidden--visually\" id=\"sk-estimator-id-7\" type=\"checkbox\" ><label for=\"sk-estimator-id-7\" class=\"sk-toggleable__label sk-toggleable__label-arrow\">RandomForestClassifier</label><div class=\"sk-toggleable__content\"><pre>RandomForestClassifier()</pre></div></div></div></div></div></div></div></div></div></div>"
      ],
      "text/plain": [
       "RandomizedSearchCV(cv=5, estimator=RandomForestClassifier(), n_iter=20,\n",
       "                   param_distributions={'max_depth': [None, 3, 5, 10],\n",
       "                                        'min_samples_leaf': array([ 1,  3,  5,  7,  9, 11, 13, 15, 17, 19]),\n",
       "                                        'min_samples_split': array([ 2,  4,  6,  8, 10, 12, 14, 16, 18]),\n",
       "                                        'n_estimators': array([ 10,  60, 110, 160, 210, 260, 310, 360, 410, 460, 510, 560, 610,\n",
       "       660, 710, 760, 810, 860, 910, 960])})"
      ]
     },
     "execution_count": 33,
     "metadata": {},
     "output_type": "execute_result"
    }
   ],
   "source": [
    "rfc_rs_model = RandomizedSearchCV(models['RandomForestClassifier'], rfc_rs_grid, cv=5, n_iter=20)\n",
    "rfc_rs_model.fit(X_train, y_train)"
   ]
  },
  {
   "cell_type": "code",
   "execution_count": 34,
   "id": "933db3c3",
   "metadata": {
    "execution": {
     "iopub.execute_input": "2024-04-01T06:57:33.633487Z",
     "iopub.status.busy": "2024-04-01T06:57:33.631946Z",
     "iopub.status.idle": "2024-04-01T06:57:33.640072Z",
     "shell.execute_reply": "2024-04-01T06:57:33.638629Z"
    },
    "id": "8jrHR5Lbmna8",
    "outputId": "16a0c65b-11e9-4fb3-c7a2-46ca62c23eee",
    "papermill": {
     "duration": 0.053025,
     "end_time": "2024-04-01T06:57:33.642955",
     "exception": false,
     "start_time": "2024-04-01T06:57:33.589930",
     "status": "completed"
    },
    "tags": []
   },
   "outputs": [
    {
     "data": {
      "text/plain": [
       "{'n_estimators': 310,\n",
       " 'min_samples_split': 18,\n",
       " 'min_samples_leaf': 13,\n",
       " 'max_depth': 5}"
      ]
     },
     "execution_count": 34,
     "metadata": {},
     "output_type": "execute_result"
    }
   ],
   "source": [
    "rfc_rs_model.best_params_"
   ]
  },
  {
   "cell_type": "code",
   "execution_count": 35,
   "id": "31f41f6c",
   "metadata": {
    "execution": {
     "iopub.execute_input": "2024-04-01T06:57:33.726762Z",
     "iopub.status.busy": "2024-04-01T06:57:33.726165Z",
     "iopub.status.idle": "2024-04-01T06:57:33.758704Z",
     "shell.execute_reply": "2024-04-01T06:57:33.757803Z"
    },
    "id": "ALM3aXQSmsMe",
    "outputId": "d3b480ea-6237-4275-b2af-a1dfd73af69b",
    "papermill": {
     "duration": 0.077762,
     "end_time": "2024-04-01T06:57:33.761165",
     "exception": false,
     "start_time": "2024-04-01T06:57:33.683403",
     "status": "completed"
    },
    "tags": []
   },
   "outputs": [
    {
     "data": {
      "text/plain": [
       "0.8688524590163934"
      ]
     },
     "execution_count": 35,
     "metadata": {},
     "output_type": "execute_result"
    }
   ],
   "source": [
    "rfc_rs_model.score(X_test, y_test)"
   ]
  },
  {
   "cell_type": "code",
   "execution_count": 36,
   "id": "aa4e3022",
   "metadata": {
    "execution": {
     "iopub.execute_input": "2024-04-01T06:57:33.846299Z",
     "iopub.status.busy": "2024-04-01T06:57:33.845628Z",
     "iopub.status.idle": "2024-04-01T06:57:33.886943Z",
     "shell.execute_reply": "2024-04-01T06:57:33.885927Z"
    },
    "id": "4P9RRtrgnFhf",
    "outputId": "fee4c984-c696-4ec3-9e7a-7b9af0c6ec5b",
    "papermill": {
     "duration": 0.086141,
     "end_time": "2024-04-01T06:57:33.889433",
     "exception": false,
     "start_time": "2024-04-01T06:57:33.803292",
     "status": "completed"
    },
    "tags": []
   },
   "outputs": [
    {
     "data": {
      "text/plain": [
       "{'Accuracy': 0.86885246,\n",
       " 'Precision': 0.85294118,\n",
       " 'Recall': 0.90625,\n",
       " 'F1': 0.87878788}"
      ]
     },
     "execution_count": 36,
     "metadata": {},
     "output_type": "execute_result"
    }
   ],
   "source": [
    "rfc_rs_model_metrics = pred_metrics(rfc_rs_model.best_estimator_, X_test, y_test)\n",
    "rfc_rs_model_metrics"
   ]
  },
  {
   "cell_type": "code",
   "execution_count": 37,
   "id": "11538d25",
   "metadata": {
    "execution": {
     "iopub.execute_input": "2024-04-01T06:57:33.973376Z",
     "iopub.status.busy": "2024-04-01T06:57:33.972858Z",
     "iopub.status.idle": "2024-04-01T06:57:33.981014Z",
     "shell.execute_reply": "2024-04-01T06:57:33.979520Z"
    },
    "id": "x_X3WWtfnbQQ",
    "outputId": "1f4a979f-ef9b-4da3-a626-68d0dda14f38",
    "papermill": {
     "duration": 0.054304,
     "end_time": "2024-04-01T06:57:33.983660",
     "exception": false,
     "start_time": "2024-04-01T06:57:33.929356",
     "status": "completed"
    },
    "tags": []
   },
   "outputs": [
    {
     "data": {
      "text/plain": [
       "{'Accuracy': 0.8852459,\n",
       " 'Precision': 0.87878788,\n",
       " 'Recall': 0.90625,\n",
       " 'F1': 0.89230769}"
      ]
     },
     "execution_count": 37,
     "metadata": {},
     "output_type": "execute_result"
    }
   ],
   "source": [
    "lr_rs_model_metrics"
   ]
  },
  {
   "cell_type": "markdown",
   "id": "a5f7e31d",
   "metadata": {
    "id": "I9nnCeHINh5r",
    "papermill": {
     "duration": 0.039993,
     "end_time": "2024-04-01T06:57:34.066466",
     "exception": false,
     "start_time": "2024-04-01T06:57:34.026473",
     "status": "completed"
    },
    "tags": []
   },
   "source": [
    "### Compare all four models\n",
    "(Base logisticRegression, Base RandomForestClassifier, RandomizedLogisisticRegression and RandomizedRandomForesClassifier)"
   ]
  },
  {
   "cell_type": "code",
   "execution_count": 38,
   "id": "37a4bb63",
   "metadata": {
    "execution": {
     "iopub.execute_input": "2024-04-01T06:57:34.150777Z",
     "iopub.status.busy": "2024-04-01T06:57:34.150292Z",
     "iopub.status.idle": "2024-04-01T06:57:34.165319Z",
     "shell.execute_reply": "2024-04-01T06:57:34.163935Z"
    },
    "id": "XsrIq8Q1omqh",
    "outputId": "ae1eb1a2-3a43-4470-f70e-03874de3f6f0",
    "papermill": {
     "duration": 0.061066,
     "end_time": "2024-04-01T06:57:34.167664",
     "exception": false,
     "start_time": "2024-04-01T06:57:34.106598",
     "status": "completed"
    },
    "tags": []
   },
   "outputs": [
    {
     "data": {
      "text/html": [
       "<div>\n",
       "<style scoped>\n",
       "    .dataframe tbody tr th:only-of-type {\n",
       "        vertical-align: middle;\n",
       "    }\n",
       "\n",
       "    .dataframe tbody tr th {\n",
       "        vertical-align: top;\n",
       "    }\n",
       "\n",
       "    .dataframe thead th {\n",
       "        text-align: right;\n",
       "    }\n",
       "</style>\n",
       "<table border=\"1\" class=\"dataframe\">\n",
       "  <thead>\n",
       "    <tr style=\"text-align: right;\">\n",
       "      <th></th>\n",
       "      <th>lr_base</th>\n",
       "      <th>rfc_base</th>\n",
       "      <th>lr_rs</th>\n",
       "      <th>rfc_rs</th>\n",
       "    </tr>\n",
       "  </thead>\n",
       "  <tbody>\n",
       "    <tr>\n",
       "      <th>Accuracy</th>\n",
       "      <td>0.885246</td>\n",
       "      <td>0.852459</td>\n",
       "      <td>0.885246</td>\n",
       "      <td>0.868852</td>\n",
       "    </tr>\n",
       "    <tr>\n",
       "      <th>Precision</th>\n",
       "      <td>0.878788</td>\n",
       "      <td>0.848485</td>\n",
       "      <td>0.878788</td>\n",
       "      <td>0.852941</td>\n",
       "    </tr>\n",
       "    <tr>\n",
       "      <th>Recall</th>\n",
       "      <td>0.906250</td>\n",
       "      <td>0.875000</td>\n",
       "      <td>0.906250</td>\n",
       "      <td>0.906250</td>\n",
       "    </tr>\n",
       "    <tr>\n",
       "      <th>F1</th>\n",
       "      <td>0.892308</td>\n",
       "      <td>0.861538</td>\n",
       "      <td>0.892308</td>\n",
       "      <td>0.878788</td>\n",
       "    </tr>\n",
       "  </tbody>\n",
       "</table>\n",
       "</div>"
      ],
      "text/plain": [
       "            lr_base  rfc_base     lr_rs    rfc_rs\n",
       "Accuracy   0.885246  0.852459  0.885246  0.868852\n",
       "Precision  0.878788  0.848485  0.878788  0.852941\n",
       "Recall     0.906250  0.875000  0.906250  0.906250\n",
       "F1         0.892308  0.861538  0.892308  0.878788"
      ]
     },
     "execution_count": 38,
     "metadata": {},
     "output_type": "execute_result"
    }
   ],
   "source": [
    "compare_base_and_rs_metrics = pd.DataFrame({\n",
    "    \"lr_base\": lr_base_model_metrics,\n",
    "    \"rfc_base\": rfc_base_model_metrics,\n",
    "    \"lr_rs\": lr_rs_model_metrics,\n",
    "    \"rfc_rs\": rfc_rs_model_metrics\n",
    "})\n",
    "\n",
    "compare_base_and_rs_metrics"
   ]
  },
  {
   "cell_type": "code",
   "execution_count": 39,
   "id": "9a05de7d",
   "metadata": {
    "execution": {
     "iopub.execute_input": "2024-04-01T06:57:34.252136Z",
     "iopub.status.busy": "2024-04-01T06:57:34.250780Z",
     "iopub.status.idle": "2024-04-01T06:57:34.619988Z",
     "shell.execute_reply": "2024-04-01T06:57:34.618624Z"
    },
    "id": "AywAqWpnnaT8",
    "outputId": "35ee165f-703d-426b-84ec-b5d8cc4bdd2a",
    "papermill": {
     "duration": 0.415354,
     "end_time": "2024-04-01T06:57:34.623233",
     "exception": false,
     "start_time": "2024-04-01T06:57:34.207879",
     "status": "completed"
    },
    "tags": []
   },
   "outputs": [
    {
     "data": {
      "text/plain": [
       "<Axes: >"
      ]
     },
     "execution_count": 39,
     "metadata": {},
     "output_type": "execute_result"
    },
    {
     "data": {
      "image/png": "[encoded data removed]",
      "text/plain": [
       "<Figure size 640x480 with 1 Axes>"
      ]
     },
     "metadata": {},
     "output_type": "display_data"
    }
   ],
   "source": [
    "compare_base_and_rs_metrics.T.plot.bar()"
   ]
  },
  {
   "cell_type": "markdown",
   "id": "f3e9c805",
   "metadata": {
    "id": "aZwrTeY2sdpB",
    "papermill": {
     "duration": 0.042531,
     "end_time": "2024-04-01T06:57:34.707018",
     "exception": false,
     "start_time": "2024-04-01T06:57:34.664487",
     "status": "completed"
    },
    "tags": []
   },
   "source": [
    "As we can see that lr_rs(logisticRegression from randomizedSearchCV) has more accuracy(If we emphasis more on accuracy than other metric) work better than other three.\n",
    "\n",
    "Hence, We will move forward with LogisticRegression and apply GridSearchCV on it."
   ]
  },
  {
   "cell_type": "markdown",
   "id": "ccb89e0f",
   "metadata": {
    "id": "nUCxJqTcnugG",
    "papermill": {
     "duration": 0.041292,
     "end_time": "2024-04-01T06:57:34.789574",
     "exception": false,
     "start_time": "2024-04-01T06:57:34.748282",
     "status": "completed"
    },
    "tags": []
   },
   "source": [
    "### GridSearchCV\n",
    "Apply GridSearchCV on LogisticRegression"
   ]
  },
  {
   "cell_type": "code",
   "execution_count": 40,
   "id": "3d76c286",
   "metadata": {
    "execution": {
     "iopub.execute_input": "2024-04-01T06:57:34.873771Z",
     "iopub.status.busy": "2024-04-01T06:57:34.872935Z",
     "iopub.status.idle": "2024-04-01T06:57:34.878782Z",
     "shell.execute_reply": "2024-04-01T06:57:34.877807Z"
    },
    "id": "BkSE40WDtP7E",
    "papermill": {
     "duration": 0.050773,
     "end_time": "2024-04-01T06:57:34.881133",
     "exception": false,
     "start_time": "2024-04-01T06:57:34.830360",
     "status": "completed"
    },
    "tags": []
   },
   "outputs": [],
   "source": [
    "# Hyperparameter grid for LogisiticRegression(for GridSearchCV)\n",
    "lr_rs_grid = {\n",
    "    \"solver\" : [\"liblinear\", 'newton-cg'],\n",
    "    \"C\" : np.logspace(-5, 5, num=30),\n",
    "    \"max_iter\" : [1000, 1500, 2000, 2500]\n",
    "}"
   ]
  },
  {
   "cell_type": "code",
   "execution_count": 41,
   "id": "57196a11",
   "metadata": {
    "execution": {
     "iopub.execute_input": "2024-04-01T06:57:34.965342Z",
     "iopub.status.busy": "2024-04-01T06:57:34.964810Z",
     "iopub.status.idle": "2024-04-01T06:57:57.000926Z",
     "shell.execute_reply": "2024-04-01T06:57:56.999488Z"
    },
    "id": "yCE32WYntna1",
    "outputId": "bd29b565-197c-4fa7-9d78-0b44c8b4ff60",
    "papermill": {
     "duration": 22.082185,
     "end_time": "2024-04-01T06:57:57.004334",
     "exception": false,
     "start_time": "2024-04-01T06:57:34.922149",
     "status": "completed"
    },
    "tags": []
   },
   "outputs": [
    {
     "data": {
      "text/html": [
       "<style>#sk-container-id-4 {color: black;background-color: white;}#sk-container-id-4 pre{padding: 0;}#sk-container-id-4 div.sk-toggleable {background-color: white;}#sk-container-id-4 label.sk-toggleable__label {cursor: pointer;display: block;width: 100%;margin-bottom: 0;padding: 0.3em;box-sizing: border-box;text-align: center;}#sk-container-id-4 label.sk-toggleable__label-arrow:before {content: \"▸\";float: left;margin-right: 0.25em;color: #696969;}#sk-container-id-4 label.sk-toggleable__label-arrow:hover:before {color: black;}#sk-container-id-4 div.sk-estimator:hover label.sk-toggleable__label-arrow:before {color: black;}#sk-container-id-4 div.sk-toggleable__content {max-height: 0;max-width: 0;overflow: hidden;text-align: left;background-color: #f0f8ff;}#sk-container-id-4 div.sk-toggleable__content pre {margin: 0.2em;color: black;border-radius: 0.25em;background-color: #f0f8ff;}#sk-container-id-4 input.sk-toggleable__control:checked~div.sk-toggleable__content {max-height: 200px;max-width: 100%;overflow: auto;}#sk-container-id-4 input.sk-toggleable__control:checked~label.sk-toggleable__label-arrow:before {content: \"▾\";}#sk-container-id-4 div.sk-estimator input.sk-toggleable__control:checked~label.sk-toggleable__label {background-color: #d4ebff;}#sk-container-id-4 div.sk-label input.sk-toggleable__control:checked~label.sk-toggleable__label {background-color: #d4ebff;}#sk-container-id-4 input.sk-hidden--visually {border: 0;clip: rect(1px 1px 1px 1px);clip: rect(1px, 1px, 1px, 1px);height: 1px;margin: -1px;overflow: hidden;padding: 0;position: absolute;width: 1px;}#sk-container-id-4 div.sk-estimator {font-family: monospace;background-color: #f0f8ff;border: 1px dotted black;border-radius: 0.25em;box-sizing: border-box;margin-bottom: 0.5em;}#sk-container-id-4 div.sk-estimator:hover {background-color: #d4ebff;}#sk-container-id-4 div.sk-parallel-item::after {content: \"\";width: 100%;border-bottom: 1px solid gray;flex-grow: 1;}#sk-container-id-4 div.sk-label:hover label.sk-toggleable__label {background-color: #d4ebff;}#sk-container-id-4 div.sk-serial::before {content: \"\";position: absolute;border-left: 1px solid gray;box-sizing: border-box;top: 0;bottom: 0;left: 50%;z-index: 0;}#sk-container-id-4 div.sk-serial {display: flex;flex-direction: column;align-items: center;background-color: white;padding-right: 0.2em;padding-left: 0.2em;position: relative;}#sk-container-id-4 div.sk-item {position: relative;z-index: 1;}#sk-container-id-4 div.sk-parallel {display: flex;align-items: stretch;justify-content: center;background-color: white;position: relative;}#sk-container-id-4 div.sk-item::before, #sk-container-id-4 div.sk-parallel-item::before {content: \"\";position: absolute;border-left: 1px solid gray;box-sizing: border-box;top: 0;bottom: 0;left: 50%;z-index: -1;}#sk-container-id-4 div.sk-parallel-item {display: flex;flex-direction: column;z-index: 1;position: relative;background-color: white;}#sk-container-id-4 div.sk-parallel-item:first-child::after {align-self: flex-end;width: 50%;}#sk-container-id-4 div.sk-parallel-item:last-child::after {align-self: flex-start;width: 50%;}#sk-container-id-4 div.sk-parallel-item:only-child::after {width: 0;}#sk-container-id-4 div.sk-dashed-wrapped {border: 1px dashed gray;margin: 0 0.4em 0.5em 0.4em;box-sizing: border-box;padding-bottom: 0.4em;background-color: white;}#sk-container-id-4 div.sk-label label {font-family: monospace;font-weight: bold;display: inline-block;line-height: 1.2em;}#sk-container-id-4 div.sk-label-container {text-align: center;}#sk-container-id-4 div.sk-container {/* jupyter's `normalize.less` sets `[hidden] { display: none; }` but bootstrap.min.css set `[hidden] { display: none !important; }` so we also need the `!important` here to be able to override the default hidden behavior on the sphinx rendered scikit-learn.org. See: https://github.com/scikit-learn/scikit-learn/issues/21755 */display: inline-block !important;position: relative;}#sk-container-id-4 div.sk-text-repr-fallback {display: none;}</style><div id=\"sk-container-id-4\" class=\"sk-top-container\"><div class=\"sk-text-repr-fallback\"><pre>GridSearchCV(cv=5, estimator=LogisticRegression(max_iter=1000),\n",
       "             param_grid={&#x27;C&#x27;: array([1.00000000e-05, 2.21221629e-05, 4.89390092e-05, 1.08263673e-04,\n",
       "       2.39502662e-04, 5.29831691e-04, 1.17210230e-03, 2.59294380e-03,\n",
       "       5.73615251e-03, 1.26896100e-02, 2.80721620e-02, 6.21016942e-02,\n",
       "       1.37382380e-01, 3.03919538e-01, 6.72335754e-01, 1.48735211e+00,\n",
       "       3.29034456e+00, 7.27895384e+00, 1.61026203e+01, 3.56224789e+01,\n",
       "       7.88046282e+01, 1.74332882e+02, 3.85662042e+02, 8.53167852e+02,\n",
       "       1.88739182e+03, 4.17531894e+03, 9.23670857e+03, 2.04335972e+04,\n",
       "       4.52035366e+04, 1.00000000e+05]),\n",
       "                         &#x27;max_iter&#x27;: [1000, 1500, 2000, 2500],\n",
       "                         &#x27;solver&#x27;: [&#x27;liblinear&#x27;, &#x27;newton-cg&#x27;]})</pre><b>In a Jupyter environment, please rerun this cell to show the HTML representation or trust the notebook. <br />On GitHub, the HTML representation is unable to render, please try loading this page with nbviewer.org.</b></div><div class=\"sk-container\" hidden><div class=\"sk-item sk-dashed-wrapped\"><div class=\"sk-label-container\"><div class=\"sk-label sk-toggleable\"><input class=\"sk-toggleable__control sk-hidden--visually\" id=\"sk-estimator-id-8\" type=\"checkbox\" ><label for=\"sk-estimator-id-8\" class=\"sk-toggleable__label sk-toggleable__label-arrow\">GridSearchCV</label><div class=\"sk-toggleable__content\"><pre>GridSearchCV(cv=5, estimator=LogisticRegression(max_iter=1000),\n",
       "             param_grid={&#x27;C&#x27;: array([1.00000000e-05, 2.21221629e-05, 4.89390092e-05, 1.08263673e-04,\n",
       "       2.39502662e-04, 5.29831691e-04, 1.17210230e-03, 2.59294380e-03,\n",
       "       5.73615251e-03, 1.26896100e-02, 2.80721620e-02, 6.21016942e-02,\n",
       "       1.37382380e-01, 3.03919538e-01, 6.72335754e-01, 1.48735211e+00,\n",
       "       3.29034456e+00, 7.27895384e+00, 1.61026203e+01, 3.56224789e+01,\n",
       "       7.88046282e+01, 1.74332882e+02, 3.85662042e+02, 8.53167852e+02,\n",
       "       1.88739182e+03, 4.17531894e+03, 9.23670857e+03, 2.04335972e+04,\n",
       "       4.52035366e+04, 1.00000000e+05]),\n",
       "                         &#x27;max_iter&#x27;: [1000, 1500, 2000, 2500],\n",
       "                         &#x27;solver&#x27;: [&#x27;liblinear&#x27;, &#x27;newton-cg&#x27;]})</pre></div></div></div><div class=\"sk-parallel\"><div class=\"sk-parallel-item\"><div class=\"sk-item\"><div class=\"sk-label-container\"><div class=\"sk-label sk-toggleable\"><input class=\"sk-toggleable__control sk-hidden--visually\" id=\"sk-estimator-id-9\" type=\"checkbox\" ><label for=\"sk-estimator-id-9\" class=\"sk-toggleable__label sk-toggleable__label-arrow\">estimator: LogisticRegression</label><div class=\"sk-toggleable__content\"><pre>LogisticRegression(max_iter=1000)</pre></div></div></div><div class=\"sk-serial\"><div class=\"sk-item\"><div class=\"sk-estimator sk-toggleable\"><input class=\"sk-toggleable__control sk-hidden--visually\" id=\"sk-estimator-id-10\" type=\"checkbox\" ><label for=\"sk-estimator-id-10\" class=\"sk-toggleable__label sk-toggleable__label-arrow\">LogisticRegression</label><div class=\"sk-toggleable__content\"><pre>LogisticRegression(max_iter=1000)</pre></div></div></div></div></div></div></div></div></div></div>"
      ],
      "text/plain": [
       "GridSearchCV(cv=5, estimator=LogisticRegression(max_iter=1000),\n",
       "             param_grid={'C': array([1.00000000e-05, 2.21221629e-05, 4.89390092e-05, 1.08263673e-04,\n",
       "       2.39502662e-04, 5.29831691e-04, 1.17210230e-03, 2.59294380e-03,\n",
       "       5.73615251e-03, 1.26896100e-02, 2.80721620e-02, 6.21016942e-02,\n",
       "       1.37382380e-01, 3.03919538e-01, 6.72335754e-01, 1.48735211e+00,\n",
       "       3.29034456e+00, 7.27895384e+00, 1.61026203e+01, 3.56224789e+01,\n",
       "       7.88046282e+01, 1.74332882e+02, 3.85662042e+02, 8.53167852e+02,\n",
       "       1.88739182e+03, 4.17531894e+03, 9.23670857e+03, 2.04335972e+04,\n",
       "       4.52035366e+04, 1.00000000e+05]),\n",
       "                         'max_iter': [1000, 1500, 2000, 2500],\n",
       "                         'solver': ['liblinear', 'newton-cg']})"
      ]
     },
     "execution_count": 41,
     "metadata": {},
     "output_type": "execute_result"
    }
   ],
   "source": [
    "lr_gs_model = GridSearchCV(models['LogisticRegression'], lr_rs_grid, cv=5)\n",
    "lr_gs_model.fit(X_train, y_train)"
   ]
  },
  {
   "cell_type": "code",
   "execution_count": 42,
   "id": "7bf5fe63",
   "metadata": {
    "execution": {
     "iopub.execute_input": "2024-04-01T06:57:57.094685Z",
     "iopub.status.busy": "2024-04-01T06:57:57.094093Z",
     "iopub.status.idle": "2024-04-01T06:57:57.101447Z",
     "shell.execute_reply": "2024-04-01T06:57:57.100257Z"
    },
    "id": "2hWpwxw6usHd",
    "outputId": "bf847317-b4a5-41bb-9e06-2bc75c7e72d2",
    "papermill": {
     "duration": 0.054716,
     "end_time": "2024-04-01T06:57:57.104447",
     "exception": false,
     "start_time": "2024-04-01T06:57:57.049731",
     "status": "completed"
    },
    "tags": []
   },
   "outputs": [
    {
     "data": {
      "text/plain": [
       "{'C': 0.3039195382313201, 'max_iter': 1000, 'solver': 'newton-cg'}"
      ]
     },
     "execution_count": 42,
     "metadata": {},
     "output_type": "execute_result"
    }
   ],
   "source": [
    "lr_gs_model.best_params_"
   ]
  },
  {
   "cell_type": "code",
   "execution_count": 43,
   "id": "c9bb01ea",
   "metadata": {
    "execution": {
     "iopub.execute_input": "2024-04-01T06:57:57.199174Z",
     "iopub.status.busy": "2024-04-01T06:57:57.197776Z",
     "iopub.status.idle": "2024-04-01T06:57:57.211559Z",
     "shell.execute_reply": "2024-04-01T06:57:57.210123Z"
    },
    "id": "yDFtD--ruygU",
    "outputId": "7dc1da96-5c4a-47bb-bf74-8edc5daed9d3",
    "papermill": {
     "duration": 0.062059,
     "end_time": "2024-04-01T06:57:57.214277",
     "exception": false,
     "start_time": "2024-04-01T06:57:57.152218",
     "status": "completed"
    },
    "tags": []
   },
   "outputs": [
    {
     "data": {
      "text/plain": [
       "0.8852459016393442"
      ]
     },
     "execution_count": 43,
     "metadata": {},
     "output_type": "execute_result"
    }
   ],
   "source": [
    "lr_gs_model.score(X_test, y_test)"
   ]
  },
  {
   "cell_type": "code",
   "execution_count": 44,
   "id": "2dbc1280",
   "metadata": {
    "execution": {
     "iopub.execute_input": "2024-04-01T06:57:57.305437Z",
     "iopub.status.busy": "2024-04-01T06:57:57.304872Z",
     "iopub.status.idle": "2024-04-01T06:57:57.324694Z",
     "shell.execute_reply": "2024-04-01T06:57:57.323543Z"
    },
    "id": "b86RqeigyHW2",
    "outputId": "990c705a-ac44-4687-ef81-1ef6b03714d8",
    "papermill": {
     "duration": 0.069608,
     "end_time": "2024-04-01T06:57:57.327261",
     "exception": false,
     "start_time": "2024-04-01T06:57:57.257653",
     "status": "completed"
    },
    "tags": []
   },
   "outputs": [
    {
     "data": {
      "text/plain": [
       "{'Accuracy': 0.8852459,\n",
       " 'Precision': 0.87878788,\n",
       " 'Recall': 0.90625,\n",
       " 'F1': 0.89230769}"
      ]
     },
     "execution_count": 44,
     "metadata": {},
     "output_type": "execute_result"
    }
   ],
   "source": [
    "lr_gs_model_metrics = pred_metrics(lr_gs_model.best_estimator_, X_test, y_test)\n",
    "lr_gs_model_metrics"
   ]
  },
  {
   "cell_type": "code",
   "execution_count": 45,
   "id": "facd54f1",
   "metadata": {
    "execution": {
     "iopub.execute_input": "2024-04-01T06:57:57.428685Z",
     "iopub.status.busy": "2024-04-01T06:57:57.427883Z",
     "iopub.status.idle": "2024-04-01T06:57:57.442523Z",
     "shell.execute_reply": "2024-04-01T06:57:57.441303Z"
    },
    "id": "7cTM2kIb6TyJ",
    "outputId": "4a9dd88c-d30d-4ab2-abe7-d9c27f19e378",
    "papermill": {
     "duration": 0.071133,
     "end_time": "2024-04-01T06:57:57.444912",
     "exception": false,
     "start_time": "2024-04-01T06:57:57.373779",
     "status": "completed"
    },
    "tags": []
   },
   "outputs": [
    {
     "data": {
      "text/html": [
       "<div>\n",
       "<style scoped>\n",
       "    .dataframe tbody tr th:only-of-type {\n",
       "        vertical-align: middle;\n",
       "    }\n",
       "\n",
       "    .dataframe tbody tr th {\n",
       "        vertical-align: top;\n",
       "    }\n",
       "\n",
       "    .dataframe thead th {\n",
       "        text-align: right;\n",
       "    }\n",
       "</style>\n",
       "<table border=\"1\" class=\"dataframe\">\n",
       "  <thead>\n",
       "    <tr style=\"text-align: right;\">\n",
       "      <th></th>\n",
       "      <th>lr_base</th>\n",
       "      <th>rfc_base</th>\n",
       "      <th>lr_rs</th>\n",
       "      <th>rfc_rs</th>\n",
       "    </tr>\n",
       "  </thead>\n",
       "  <tbody>\n",
       "    <tr>\n",
       "      <th>Accuracy</th>\n",
       "      <td>0.885246</td>\n",
       "      <td>0.852459</td>\n",
       "      <td>0.885246</td>\n",
       "      <td>0.868852</td>\n",
       "    </tr>\n",
       "    <tr>\n",
       "      <th>Precision</th>\n",
       "      <td>0.878788</td>\n",
       "      <td>0.848485</td>\n",
       "      <td>0.878788</td>\n",
       "      <td>0.852941</td>\n",
       "    </tr>\n",
       "    <tr>\n",
       "      <th>Recall</th>\n",
       "      <td>0.906250</td>\n",
       "      <td>0.875000</td>\n",
       "      <td>0.906250</td>\n",
       "      <td>0.906250</td>\n",
       "    </tr>\n",
       "    <tr>\n",
       "      <th>F1</th>\n",
       "      <td>0.892308</td>\n",
       "      <td>0.861538</td>\n",
       "      <td>0.892308</td>\n",
       "      <td>0.878788</td>\n",
       "    </tr>\n",
       "  </tbody>\n",
       "</table>\n",
       "</div>"
      ],
      "text/plain": [
       "            lr_base  rfc_base     lr_rs    rfc_rs\n",
       "Accuracy   0.885246  0.852459  0.885246  0.868852\n",
       "Precision  0.878788  0.848485  0.878788  0.852941\n",
       "Recall     0.906250  0.875000  0.906250  0.906250\n",
       "F1         0.892308  0.861538  0.892308  0.878788"
      ]
     },
     "execution_count": 45,
     "metadata": {},
     "output_type": "execute_result"
    }
   ],
   "source": [
    "compare_base_and_rs_metrics"
   ]
  },
  {
   "cell_type": "markdown",
   "id": "163e8147",
   "metadata": {
    "id": "NTWBYBj5I7yx",
    "papermill": {
     "duration": 0.043323,
     "end_time": "2024-04-01T06:57:57.531996",
     "exception": false,
     "start_time": "2024-04-01T06:57:57.488673",
     "status": "completed"
    },
    "tags": []
   },
   "source": [
    "After comparing logisticRegression base model, RandomizedSearch logisticRegression model and GridSearch logisticRegression we found that that is not such differnce. Hence we can move forward with any of three model"
   ]
  },
  {
   "cell_type": "markdown",
   "id": "343e9b11",
   "metadata": {
    "id": "1p_8NOf9uMaj",
    "papermill": {
     "duration": 0.04398,
     "end_time": "2024-04-01T06:57:57.619068",
     "exception": false,
     "start_time": "2024-04-01T06:57:57.575088",
     "status": "completed"
    },
    "tags": []
   },
   "source": [
    "## Model Evaluation\n",
    "- Accuracy\n",
    "- Area under ROC curve\n",
    "- Confusion matrix\n",
    "- Classification report"
   ]
  },
  {
   "cell_type": "code",
   "execution_count": 46,
   "id": "22424733",
   "metadata": {
    "execution": {
     "iopub.execute_input": "2024-04-01T06:57:57.707313Z",
     "iopub.status.busy": "2024-04-01T06:57:57.706871Z",
     "iopub.status.idle": "2024-04-01T06:57:57.715165Z",
     "shell.execute_reply": "2024-04-01T06:57:57.713796Z"
    },
    "id": "IJlRlGUYSoaR",
    "papermill": {
     "duration": 0.05566,
     "end_time": "2024-04-01T06:57:57.717957",
     "exception": false,
     "start_time": "2024-04-01T06:57:57.662297",
     "status": "completed"
    },
    "tags": []
   },
   "outputs": [],
   "source": [
    "lr_final_model = lr_rs_model.best_estimator_\n",
    "lr_final_model_preds = lr_final_model.predict(X_test)"
   ]
  },
  {
   "cell_type": "code",
   "execution_count": 47,
   "id": "fdec6d33",
   "metadata": {
    "execution": {
     "iopub.execute_input": "2024-04-01T06:57:57.812092Z",
     "iopub.status.busy": "2024-04-01T06:57:57.811155Z",
     "iopub.status.idle": "2024-04-01T06:57:58.007120Z",
     "shell.execute_reply": "2024-04-01T06:57:58.005199Z"
    },
    "id": "s_r8ZeYvTt_U",
    "outputId": "f08a9c9d-54b1-441d-8034-bc14abd40f60",
    "papermill": {
     "duration": 0.245439,
     "end_time": "2024-04-01T06:57:58.011598",
     "exception": false,
     "start_time": "2024-04-01T06:57:57.766159",
     "status": "completed"
    },
    "tags": []
   },
   "outputs": [
    {
     "data": {
      "image/png": "[encoded data removed]",
      "text/plain": [
       "<Figure size 640x480 with 1 Axes>"
      ]
     },
     "metadata": {},
     "output_type": "display_data"
    }
   ],
   "source": [
    "ConfusionMatrixDisplay.from_estimator(lr_final_model, X_test, y_test,colorbar=False);"
   ]
  },
  {
   "cell_type": "markdown",
   "id": "a6128a7b",
   "metadata": {
    "id": "nhntAowk9uE_",
    "papermill": {
     "duration": 0.043518,
     "end_time": "2024-04-01T06:57:58.112364",
     "exception": false,
     "start_time": "2024-04-01T06:57:58.068846",
     "status": "completed"
    },
    "tags": []
   },
   "source": [
    "ROC and AUC"
   ]
  },
  {
   "cell_type": "code",
   "execution_count": 48,
   "id": "5154bafe",
   "metadata": {
    "execution": {
     "iopub.execute_input": "2024-04-01T06:57:58.199125Z",
     "iopub.status.busy": "2024-04-01T06:57:58.198605Z",
     "iopub.status.idle": "2024-04-01T06:57:58.516385Z",
     "shell.execute_reply": "2024-04-01T06:57:58.515029Z"
    },
    "id": "6oyOJkaJTrzj",
    "outputId": "10c81ebe-bf4c-45e2-fab4-f078f1bbffd4",
    "papermill": {
     "duration": 0.364352,
     "end_time": "2024-04-01T06:57:58.519215",
     "exception": false,
     "start_time": "2024-04-01T06:57:58.154863",
     "status": "completed"
    },
    "tags": []
   },
   "outputs": [
    {
     "data": {
      "image/png": "[encoded data removed]",
      "text/plain": [
       "<Figure size 640x480 with 1 Axes>"
      ]
     },
     "metadata": {},
     "output_type": "display_data"
    }
   ],
   "source": [
    "RocCurveDisplay.from_estimator(lr_final_model, X_test, y_test);"
   ]
  },
  {
   "cell_type": "markdown",
   "id": "6025f326",
   "metadata": {
    "id": "I8piRkVl0LkD",
    "papermill": {
     "duration": 0.043445,
     "end_time": "2024-04-01T06:57:58.605685",
     "exception": false,
     "start_time": "2024-04-01T06:57:58.562240",
     "status": "completed"
    },
    "tags": []
   },
   "source": [
    "### Classification Report"
   ]
  },
  {
   "cell_type": "code",
   "execution_count": 49,
   "id": "831f34a2",
   "metadata": {
    "execution": {
     "iopub.execute_input": "2024-04-01T06:57:58.694127Z",
     "iopub.status.busy": "2024-04-01T06:57:58.693522Z",
     "iopub.status.idle": "2024-04-01T06:57:58.711753Z",
     "shell.execute_reply": "2024-04-01T06:57:58.709327Z"
    },
    "id": "ljRHvhpuJFPB",
    "outputId": "73b67146-8c16-4052-de7d-739440ede101",
    "papermill": {
     "duration": 0.066154,
     "end_time": "2024-04-01T06:57:58.714634",
     "exception": false,
     "start_time": "2024-04-01T06:57:58.648480",
     "status": "completed"
    },
    "tags": []
   },
   "outputs": [
    {
     "name": "stdout",
     "output_type": "stream",
     "text": [
      "              precision    recall  f1-score   support\n",
      "\n",
      "           0       0.89      0.86      0.88        29\n",
      "           1       0.88      0.91      0.89        32\n",
      "\n",
      "    accuracy                           0.89        61\n",
      "   macro avg       0.89      0.88      0.88        61\n",
      "weighted avg       0.89      0.89      0.89        61\n",
      "\n"
     ]
    }
   ],
   "source": [
    "print(classification_report(y_test,lr_final_model_preds))"
   ]
  },
  {
   "cell_type": "markdown",
   "id": "53e54fb6",
   "metadata": {
    "id": "mgNYnjOmJa3d",
    "papermill": {
     "duration": 0.043168,
     "end_time": "2024-04-01T06:57:58.801459",
     "exception": false,
     "start_time": "2024-04-01T06:57:58.758291",
     "status": "completed"
    },
    "tags": []
   },
   "source": [
    "### Evaluation metrics using cross-validation"
   ]
  },
  {
   "cell_type": "markdown",
   "id": "d70ffe43",
   "metadata": {
    "id": "g8Ln3OwpuYTr",
    "papermill": {
     "duration": 0.043345,
     "end_time": "2024-04-01T06:57:58.887690",
     "exception": false,
     "start_time": "2024-04-01T06:57:58.844345",
     "status": "completed"
    },
    "tags": []
   },
   "source": [
    "#### Accuracy"
   ]
  },
  {
   "cell_type": "code",
   "execution_count": 50,
   "id": "1e07ab63",
   "metadata": {
    "execution": {
     "iopub.execute_input": "2024-04-01T06:57:58.976711Z",
     "iopub.status.busy": "2024-04-01T06:57:58.976228Z",
     "iopub.status.idle": "2024-04-01T06:57:59.029532Z",
     "shell.execute_reply": "2024-04-01T06:57:59.028495Z"
    },
    "id": "z1kL5VQGKSKb",
    "outputId": "d5c5c07a-dd32-4384-8ff7-416fd5ea79a1",
    "papermill": {
     "duration": 0.100863,
     "end_time": "2024-04-01T06:57:59.032394",
     "exception": false,
     "start_time": "2024-04-01T06:57:58.931531",
     "status": "completed"
    },
    "tags": []
   },
   "outputs": [
    {
     "name": "stdout",
     "output_type": "stream",
     "text": [
      "The cross-validated accuracy is 84.80\n"
     ]
    }
   ],
   "source": [
    "np.random.seed(42)\n",
    "lr_final_model_cv_acc = cross_val_score(lr_final_model, X, y, cv=5, scoring='accuracy').mean()\n",
    "print(f'The cross-validated accuracy is {lr_final_model_cv_acc*100:.2f}')"
   ]
  },
  {
   "cell_type": "markdown",
   "id": "27b71b6f",
   "metadata": {
    "id": "isUfWfA_W2mP",
    "papermill": {
     "duration": 0.043688,
     "end_time": "2024-04-01T06:57:59.119877",
     "exception": false,
     "start_time": "2024-04-01T06:57:59.076189",
     "status": "completed"
    },
    "tags": []
   },
   "source": [
    "#### Precision"
   ]
  },
  {
   "cell_type": "code",
   "execution_count": 51,
   "id": "0fafd6b4",
   "metadata": {
    "execution": {
     "iopub.execute_input": "2024-04-01T06:57:59.210911Z",
     "iopub.status.busy": "2024-04-01T06:57:59.210490Z",
     "iopub.status.idle": "2024-04-01T06:57:59.271565Z",
     "shell.execute_reply": "2024-04-01T06:57:59.269543Z"
    },
    "id": "HV1x57ozNSRj",
    "outputId": "b54ebf96-9d0e-44a0-e96a-d961382c507c",
    "papermill": {
     "duration": 0.110309,
     "end_time": "2024-04-01T06:57:59.274708",
     "exception": false,
     "start_time": "2024-04-01T06:57:59.164399",
     "status": "completed"
    },
    "tags": []
   },
   "outputs": [
    {
     "name": "stdout",
     "output_type": "stream",
     "text": [
      "The cross-validated precision is 0.82\n"
     ]
    }
   ],
   "source": [
    "np.random.seed(42)\n",
    "lr_final_model_cv_precision = cross_val_score(lr_final_model, X, y, cv=5, scoring='precision').mean()\n",
    "print(f'The cross-validated precision is {lr_final_model_cv_precision:.2f}')"
   ]
  },
  {
   "cell_type": "markdown",
   "id": "7320d200",
   "metadata": {
    "id": "31B3CmKkXOut",
    "papermill": {
     "duration": 0.045246,
     "end_time": "2024-04-01T06:57:59.364005",
     "exception": false,
     "start_time": "2024-04-01T06:57:59.318759",
     "status": "completed"
    },
    "tags": []
   },
   "source": [
    "#### Recall"
   ]
  },
  {
   "cell_type": "code",
   "execution_count": 52,
   "id": "9462420c",
   "metadata": {
    "execution": {
     "iopub.execute_input": "2024-04-01T06:57:59.459918Z",
     "iopub.status.busy": "2024-04-01T06:57:59.459459Z",
     "iopub.status.idle": "2024-04-01T06:57:59.521842Z",
     "shell.execute_reply": "2024-04-01T06:57:59.520737Z"
    },
    "id": "zKc0IcxtOBic",
    "outputId": "a8861e2f-693a-422c-9b33-28c35053344b",
    "papermill": {
     "duration": 0.114447,
     "end_time": "2024-04-01T06:57:59.524818",
     "exception": false,
     "start_time": "2024-04-01T06:57:59.410371",
     "status": "completed"
    },
    "tags": []
   },
   "outputs": [
    {
     "name": "stdout",
     "output_type": "stream",
     "text": [
      "The cross-validated recall is 0.93\n"
     ]
    }
   ],
   "source": [
    "np.random.seed(42)\n",
    "lr_final_model_cv_recall = cross_val_score(lr_final_model, X, y, cv=5, scoring='recall').mean()\n",
    "print(f'The cross-validated recall is {lr_final_model_cv_recall:.2f}')"
   ]
  },
  {
   "cell_type": "markdown",
   "id": "a8beac26",
   "metadata": {
    "id": "cxLFmDIbXcDG",
    "papermill": {
     "duration": 0.044903,
     "end_time": "2024-04-01T06:57:59.614538",
     "exception": false,
     "start_time": "2024-04-01T06:57:59.569635",
     "status": "completed"
    },
    "tags": []
   },
   "source": [
    "#### F1"
   ]
  },
  {
   "cell_type": "code",
   "execution_count": 53,
   "id": "5e57d274",
   "metadata": {
    "execution": {
     "iopub.execute_input": "2024-04-01T06:57:59.706909Z",
     "iopub.status.busy": "2024-04-01T06:57:59.706412Z",
     "iopub.status.idle": "2024-04-01T06:57:59.765701Z",
     "shell.execute_reply": "2024-04-01T06:57:59.763916Z"
    },
    "id": "ZcIkXafGOWSb",
    "outputId": "f82c35eb-befa-445d-81f4-caf6712a112f",
    "papermill": {
     "duration": 0.109053,
     "end_time": "2024-04-01T06:57:59.768957",
     "exception": false,
     "start_time": "2024-04-01T06:57:59.659904",
     "status": "completed"
    },
    "tags": []
   },
   "outputs": [
    {
     "name": "stdout",
     "output_type": "stream",
     "text": [
      "The cross-validated F1 is 0.87\n"
     ]
    }
   ],
   "source": [
    "np.random.seed(42)\n",
    "lr_final_model_cv_f1 = cross_val_score(lr_final_model, X, y, cv=5, scoring='f1').mean()\n",
    "print(f'The cross-validated F1 is {lr_final_model_cv_f1:.2f}')"
   ]
  },
  {
   "cell_type": "markdown",
   "id": "03d6530a",
   "metadata": {
    "id": "BqBDdRlpYEXU",
    "papermill": {
     "duration": 0.044451,
     "end_time": "2024-04-01T06:57:59.859772",
     "exception": false,
     "start_time": "2024-04-01T06:57:59.815321",
     "status": "completed"
    },
    "tags": []
   },
   "source": [
    "### AUC"
   ]
  },
  {
   "cell_type": "code",
   "execution_count": 54,
   "id": "a04dbf53",
   "metadata": {
    "execution": {
     "iopub.execute_input": "2024-04-01T06:57:59.952019Z",
     "iopub.status.busy": "2024-04-01T06:57:59.951612Z",
     "iopub.status.idle": "2024-04-01T06:58:00.017789Z",
     "shell.execute_reply": "2024-04-01T06:58:00.016378Z"
    },
    "id": "GE7Wq5WfYG3c",
    "outputId": "bc0146b5-6aaa-491a-d374-31d7b97de502",
    "papermill": {
     "duration": 0.116571,
     "end_time": "2024-04-01T06:58:00.020871",
     "exception": false,
     "start_time": "2024-04-01T06:57:59.904300",
     "status": "completed"
    },
    "tags": []
   },
   "outputs": [
    {
     "name": "stdout",
     "output_type": "stream",
     "text": [
      "The cross-validated AUC score is is 0.90\n"
     ]
    }
   ],
   "source": [
    "np.random.seed(42)\n",
    "lr_final_model_cv_auc = cross_val_score(lr_final_model, X, y, cv=5, scoring='roc_auc').mean()\n",
    "print(f'The cross-validated AUC score is is {lr_final_model_cv_auc:.2f}')"
   ]
  },
  {
   "cell_type": "markdown",
   "id": "8d420eb8",
   "metadata": {
    "id": "AbNeAzN_Xywg",
    "papermill": {
     "duration": 0.04429,
     "end_time": "2024-04-01T06:58:00.110454",
     "exception": false,
     "start_time": "2024-04-01T06:58:00.066164",
     "status": "completed"
    },
    "tags": []
   },
   "source": [
    "### Visualize cross-validation score"
   ]
  },
  {
   "cell_type": "code",
   "execution_count": 55,
   "id": "1c0f5b34",
   "metadata": {
    "execution": {
     "iopub.execute_input": "2024-04-01T06:58:00.208289Z",
     "iopub.status.busy": "2024-04-01T06:58:00.207774Z",
     "iopub.status.idle": "2024-04-01T06:58:00.526888Z",
     "shell.execute_reply": "2024-04-01T06:58:00.525369Z"
    },
    "id": "T0Rsz11hX6pc",
    "outputId": "c8a64308-e1dc-4aa0-9725-ec7b02c567b8",
    "papermill": {
     "duration": 0.37054,
     "end_time": "2024-04-01T06:58:00.529804",
     "exception": false,
     "start_time": "2024-04-01T06:58:00.159264",
     "status": "completed"
    },
    "tags": []
   },
   "outputs": [
    {
     "data": {
      "image/png": "[encoded data removed]",
      "text/plain": [
       "<Figure size 640x480 with 1 Axes>"
      ]
     },
     "metadata": {},
     "output_type": "display_data"
    }
   ],
   "source": [
    "metric_name = ['Accuracy', 'Precision', 'Recall', 'F1', 'Roc Auc']\n",
    "metric_value = [lr_final_model_cv_acc, lr_final_model_cv_precision, lr_final_model_cv_recall, lr_final_model_cv_f1, lr_final_model_cv_auc]\n",
    "\n",
    "bar_container = plt.bar(metric_name, metric_value)\n",
    "plt.bar_label(bar_container)\n",
    "plt.title(\"Cross-Validated Metrics\");"
   ]
  },
  {
   "cell_type": "markdown",
   "id": "a344bce3",
   "metadata": {
    "id": "vNX2yVd3JpII",
    "papermill": {
     "duration": 0.0452,
     "end_time": "2024-04-01T06:58:00.620233",
     "exception": false,
     "start_time": "2024-04-01T06:58:00.575033",
     "status": "completed"
    },
    "tags": []
   },
   "source": [
    "**Inference**:\n",
    "- **Accuracy = 84.8 % => It means model correctly predicted the outcome(both heart disease and no heart disease) in 84.8% of the case.**\n",
    "- **Precision = 82.1% => It means that out of prediction of heart dieseas, 82.8% of them truly have cancer.**\n",
    "- **Recall = 92.7% => It means out of all the patients have heart disease, our model predicts 92% of them having heart disease.**\n",
    "\n",
    "**Here, It is excellent at identifying patients with heart disease (92.7% recall) and fairly accurate in predicting heart disease for those who truly have it (82.1% precision).**\n",
    "\n",
    "**It depend upon buisness task that we emphasis more on which on metrics(recall or precision). **"
   ]
  },
  {
   "cell_type": "markdown",
   "id": "da20422d",
   "metadata": {
    "id": "T-Ukf4B-96lx",
    "papermill": {
     "duration": 0.045722,
     "end_time": "2024-04-01T06:58:00.714582",
     "exception": false,
     "start_time": "2024-04-01T06:58:00.668860",
     "status": "completed"
    },
    "tags": []
   },
   "source": [
    "## Feature Importance"
   ]
  },
  {
   "cell_type": "code",
   "execution_count": 56,
   "id": "c4765483",
   "metadata": {
    "execution": {
     "iopub.execute_input": "2024-04-01T06:58:00.808797Z",
     "iopub.status.busy": "2024-04-01T06:58:00.808332Z",
     "iopub.status.idle": "2024-04-01T06:58:00.816695Z",
     "shell.execute_reply": "2024-04-01T06:58:00.815674Z"
    },
    "id": "qi8MWclc7BQM",
    "outputId": "1874472a-dfac-4f61-d365-626cd8c436c4",
    "papermill": {
     "duration": 0.058476,
     "end_time": "2024-04-01T06:58:00.818876",
     "exception": false,
     "start_time": "2024-04-01T06:58:00.760400",
     "status": "completed"
    },
    "tags": []
   },
   "outputs": [
    {
     "data": {
      "text/plain": [
       "array([[ 0.00369922, -0.9042409 ,  0.67472826, -0.0116134 , -0.00170364,\n",
       "         0.04787688,  0.33490198,  0.02472938, -0.63120406, -0.5759095 ,\n",
       "         0.47095141, -0.65165348, -0.69984208]])"
      ]
     },
     "execution_count": 56,
     "metadata": {},
     "output_type": "execute_result"
    }
   ],
   "source": [
    "lr_final_model.coef_"
   ]
  },
  {
   "cell_type": "code",
   "execution_count": 57,
   "id": "b9e34081",
   "metadata": {
    "execution": {
     "iopub.execute_input": "2024-04-01T06:58:00.912654Z",
     "iopub.status.busy": "2024-04-01T06:58:00.912230Z",
     "iopub.status.idle": "2024-04-01T06:58:00.920031Z",
     "shell.execute_reply": "2024-04-01T06:58:00.918834Z"
    },
    "id": "8RMg8Wv9BcjT",
    "outputId": "ae0dd71a-4bb5-4a9d-930c-87127e008f48",
    "papermill": {
     "duration": 0.058285,
     "end_time": "2024-04-01T06:58:00.922514",
     "exception": false,
     "start_time": "2024-04-01T06:58:00.864229",
     "status": "completed"
    },
    "tags": []
   },
   "outputs": [
    {
     "data": {
      "text/plain": [
       "Index(['age', 'sex', 'cp', 'trestbps', 'chol', 'fbs', 'restecg', 'thalach',\n",
       "       'exang', 'oldpeak', 'slope', 'ca', 'thal', 'target'],\n",
       "      dtype='object')"
      ]
     },
     "execution_count": 57,
     "metadata": {},
     "output_type": "execute_result"
    }
   ],
   "source": [
    "df.columns"
   ]
  },
  {
   "cell_type": "code",
   "execution_count": 58,
   "id": "dee3be10",
   "metadata": {
    "execution": {
     "iopub.execute_input": "2024-04-01T06:58:01.019728Z",
     "iopub.status.busy": "2024-04-01T06:58:01.019311Z",
     "iopub.status.idle": "2024-04-01T06:58:01.038898Z",
     "shell.execute_reply": "2024-04-01T06:58:01.037688Z"
    },
    "id": "5Rf8Ld-NBg9h",
    "outputId": "a5ea5f0c-9464-45db-fc93-2e9051340169",
    "papermill": {
     "duration": 0.070868,
     "end_time": "2024-04-01T06:58:01.041462",
     "exception": false,
     "start_time": "2024-04-01T06:58:00.970594",
     "status": "completed"
    },
    "tags": []
   },
   "outputs": [
    {
     "data": {
      "text/html": [
       "<div>\n",
       "<style scoped>\n",
       "    .dataframe tbody tr th:only-of-type {\n",
       "        vertical-align: middle;\n",
       "    }\n",
       "\n",
       "    .dataframe tbody tr th {\n",
       "        vertical-align: top;\n",
       "    }\n",
       "\n",
       "    .dataframe thead th {\n",
       "        text-align: right;\n",
       "    }\n",
       "</style>\n",
       "<table border=\"1\" class=\"dataframe\">\n",
       "  <thead>\n",
       "    <tr style=\"text-align: right;\">\n",
       "      <th></th>\n",
       "      <th>age</th>\n",
       "      <th>sex</th>\n",
       "      <th>cp</th>\n",
       "      <th>trestbps</th>\n",
       "      <th>chol</th>\n",
       "      <th>fbs</th>\n",
       "      <th>restecg</th>\n",
       "      <th>thalach</th>\n",
       "      <th>exang</th>\n",
       "      <th>oldpeak</th>\n",
       "      <th>slope</th>\n",
       "      <th>ca</th>\n",
       "      <th>thal</th>\n",
       "    </tr>\n",
       "  </thead>\n",
       "  <tbody>\n",
       "    <tr>\n",
       "      <th>0</th>\n",
       "      <td>0.003699</td>\n",
       "      <td>-0.904241</td>\n",
       "      <td>0.674728</td>\n",
       "      <td>-0.011613</td>\n",
       "      <td>-0.001704</td>\n",
       "      <td>0.047877</td>\n",
       "      <td>0.334902</td>\n",
       "      <td>0.024729</td>\n",
       "      <td>-0.631204</td>\n",
       "      <td>-0.57591</td>\n",
       "      <td>0.470951</td>\n",
       "      <td>-0.651653</td>\n",
       "      <td>-0.699842</td>\n",
       "    </tr>\n",
       "  </tbody>\n",
       "</table>\n",
       "</div>"
      ],
      "text/plain": [
       "        age       sex        cp  trestbps      chol       fbs   restecg  \\\n",
       "0  0.003699 -0.904241  0.674728 -0.011613 -0.001704  0.047877  0.334902   \n",
       "\n",
       "    thalach     exang  oldpeak     slope        ca      thal  \n",
       "0  0.024729 -0.631204 -0.57591  0.470951 -0.651653 -0.699842  "
      ]
     },
     "execution_count": 58,
     "metadata": {},
     "output_type": "execute_result"
    }
   ],
   "source": [
    "feature_dict = dict(zip(df.columns, lr_final_model.coef_[0]))\n",
    "feature_df = pd.DataFrame(feature_dict, index=[0])\n",
    "feature_df"
   ]
  },
  {
   "cell_type": "code",
   "execution_count": 59,
   "id": "fe6ad6c3",
   "metadata": {
    "execution": {
     "iopub.execute_input": "2024-04-01T06:58:01.145018Z",
     "iopub.status.busy": "2024-04-01T06:58:01.144570Z",
     "iopub.status.idle": "2024-04-01T06:58:01.469560Z",
     "shell.execute_reply": "2024-04-01T06:58:01.467863Z"
    },
    "id": "YIqzKQMZCvdK",
    "outputId": "fd1e32ee-895b-4386-8a95-7bcb402c790b",
    "papermill": {
     "duration": 0.384139,
     "end_time": "2024-04-01T06:58:01.472369",
     "exception": false,
     "start_time": "2024-04-01T06:58:01.088230",
     "status": "completed"
    },
    "tags": []
   },
   "outputs": [
    {
     "data": {
      "image/png": "[encoded data removed]",
      "text/plain": [
       "<Figure size 640x480 with 1 Axes>"
      ]
     },
     "metadata": {},
     "output_type": "display_data"
    }
   ],
   "source": [
    "feature_df.T.plot.bar(legend=False);"
   ]
  },
  {
   "cell_type": "markdown",
   "id": "b5346937",
   "metadata": {
    "id": "ytKgbCJ6N2vK",
    "papermill": {
     "duration": 0.047815,
     "end_time": "2024-04-01T06:58:01.568449",
     "exception": false,
     "start_time": "2024-04-01T06:58:01.520634",
     "status": "completed"
    },
    "tags": []
   },
   "source": [
    "Larger the value of coeffecient, the more it contributes to dicision making.\n",
    "If value is negative then there is negative correlation and vice-versa for positive value."
   ]
  },
  {
   "cell_type": "markdown",
   "id": "654218a4",
   "metadata": {
    "id": "3uCQVx_zDH7a",
    "papermill": {
     "duration": 0.048112,
     "end_time": "2024-04-01T06:58:01.666088",
     "exception": false,
     "start_time": "2024-04-01T06:58:01.617976",
     "status": "completed"
    },
    "tags": []
   },
   "source": [
    "**Inference:**\n",
    "\n",
    "1. `sex` feature has larger negative value implies it has strong negative correlation.\n",
    "\n",
    "It means that value of sex decrease(i.e 0) there is more chance of having a heart disease. We have seen earlier that female have 75% of change of heart.\n",
    "Hence women have more chance of heart disease."
   ]
  },
  {
   "cell_type": "markdown",
   "id": "7e1a4260",
   "metadata": {
    "id": "8HB0g9-zQ3cI",
    "papermill": {
     "duration": 0.046379,
     "end_time": "2024-04-01T06:58:01.759479",
     "exception": false,
     "start_time": "2024-04-01T06:58:01.713100",
     "status": "completed"
    },
    "tags": []
   },
   "source": [
    "2. `slope` feature has larger positive value implies it has positive correlation"
   ]
  },
  {
   "cell_type": "code",
   "execution_count": 60,
   "id": "ec427fed",
   "metadata": {
    "execution": {
     "iopub.execute_input": "2024-04-01T06:58:01.858785Z",
     "iopub.status.busy": "2024-04-01T06:58:01.857486Z",
     "iopub.status.idle": "2024-04-01T06:58:01.876424Z",
     "shell.execute_reply": "2024-04-01T06:58:01.875208Z"
    },
    "id": "UPUsDbB0RTbh",
    "outputId": "89305dd2-481c-4af2-f74f-326b75c46c10",
    "papermill": {
     "duration": 0.073076,
     "end_time": "2024-04-01T06:58:01.879503",
     "exception": false,
     "start_time": "2024-04-01T06:58:01.806427",
     "status": "completed"
    },
    "tags": []
   },
   "outputs": [
    {
     "data": {
      "text/html": [
       "<div>\n",
       "<style scoped>\n",
       "    .dataframe tbody tr th:only-of-type {\n",
       "        vertical-align: middle;\n",
       "    }\n",
       "\n",
       "    .dataframe tbody tr th {\n",
       "        vertical-align: top;\n",
       "    }\n",
       "\n",
       "    .dataframe thead th {\n",
       "        text-align: right;\n",
       "    }\n",
       "</style>\n",
       "<table border=\"1\" class=\"dataframe\">\n",
       "  <thead>\n",
       "    <tr style=\"text-align: right;\">\n",
       "      <th>target</th>\n",
       "      <th>0</th>\n",
       "      <th>1</th>\n",
       "    </tr>\n",
       "    <tr>\n",
       "      <th>slope</th>\n",
       "      <th></th>\n",
       "      <th></th>\n",
       "    </tr>\n",
       "  </thead>\n",
       "  <tbody>\n",
       "    <tr>\n",
       "      <th>0</th>\n",
       "      <td>12</td>\n",
       "      <td>9</td>\n",
       "    </tr>\n",
       "    <tr>\n",
       "      <th>1</th>\n",
       "      <td>91</td>\n",
       "      <td>49</td>\n",
       "    </tr>\n",
       "    <tr>\n",
       "      <th>2</th>\n",
       "      <td>35</td>\n",
       "      <td>107</td>\n",
       "    </tr>\n",
       "  </tbody>\n",
       "</table>\n",
       "</div>"
      ],
      "text/plain": [
       "target   0    1\n",
       "slope          \n",
       "0       12    9\n",
       "1       91   49\n",
       "2       35  107"
      ]
     },
     "execution_count": 60,
     "metadata": {},
     "output_type": "execute_result"
    }
   ],
   "source": [
    "pd.crosstab(df[\"slope\"], df[\"target\"])"
   ]
  },
  {
   "cell_type": "markdown",
   "id": "51f6aed3",
   "metadata": {
    "id": "9YQFE9eIRUVm",
    "papermill": {
     "duration": 0.046888,
     "end_time": "2024-04-01T06:58:01.972864",
     "exception": false,
     "start_time": "2024-04-01T06:58:01.925976",
     "status": "completed"
    },
    "tags": []
   },
   "source": [
    "As we can notice form the table is that as slope increase chance of haveing heart disease also increases.(same logic goes with `cp`, `exang` and `thal` etc)"
   ]
  },
  {
   "cell_type": "markdown",
   "id": "90b0af12",
   "metadata": {
    "id": "K5STTKqhSqtV",
    "papermill": {
     "duration": 0.048952,
     "end_time": "2024-04-01T06:58:02.068584",
     "exception": false,
     "start_time": "2024-04-01T06:58:02.019632",
     "status": "completed"
    },
    "tags": []
   },
   "source": [
    "### Still there is lot of thing we can do\n",
    "- Try different classification model(like SVM, XGboost)\n",
    "- Try more hyper paramter\n",
    "- Ask for more data samples."
   ]
  },
  {
   "cell_type": "code",
   "execution_count": null,
   "id": "dd4c837f",
   "metadata": {
    "id": "_FlWk8vrTycm",
    "papermill": {
     "duration": 0.048653,
     "end_time": "2024-04-01T06:58:02.176553",
     "exception": false,
     "start_time": "2024-04-01T06:58:02.127900",
     "status": "completed"
    },
    "tags": []
   },
   "outputs": [],
   "source": []
  }
 ],
 "metadata": {
  "colab": {
   "provenance": []
  },
  "kaggle": {
   "accelerator": "none",
   "dataSources": [
    {
     "datasetId": 4707382,
     "sourceId": 7995357,
     "sourceType": "datasetVersion"
    }
   ],
   "dockerImageVersionId": 30673,
   "isGpuEnabled": false,
   "isInternetEnabled": true,
   "language": "python",
   "sourceType": "notebook"
  },
  "kernelspec": {
   "display_name": "Python 3",
   "language": "python",
   "name": "python3"
  },
  "language_info": {
   "codemirror_mode": {
    "name": "ipython",
    "version": 3
   },
   "file_extension": ".py",
   "mimetype": "text/x-python",
   "name": "python",
   "nbconvert_exporter": "python",
   "pygments_lexer": "ipython3",
   "version": "3.10.13"
  },
  "papermill": {
   "default_parameters": {},
   "duration": 150.228069,
   "end_time": "2024-04-01T06:58:03.248537",
   "environment_variables": {},
   "exception": null,
   "input_path": "__notebook__.ipynb",
   "output_path": "__notebook__.ipynb",
   "parameters": {},
   "start_time": "2024-04-01T06:55:33.020468",
   "version": "2.5.0"
  }
 },
 "nbformat": 4,
 "nbformat_minor": 5
}
